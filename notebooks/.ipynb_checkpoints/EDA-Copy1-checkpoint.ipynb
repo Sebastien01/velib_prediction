{
 "cells": [
  {
   "cell_type": "code",
   "execution_count": 244,
   "id": "ad9920b4",
   "metadata": {},
   "outputs": [],
   "source": [
    "import pandas as pd\n",
    "import numpy as np\n",
    "import plotly.express as plotly\n",
    "import matplotlib.pyplot as plt\n",
    "import seaborn as sns"
   ]
  },
  {
   "cell_type": "markdown",
   "id": "f1e65703",
   "metadata": {},
   "source": [
    "# EDA"
   ]
  },
  {
   "cell_type": "code",
   "execution_count": 158,
   "id": "34aaf426",
   "metadata": {},
   "outputs": [
    {
     "name": "stderr",
     "output_type": "stream",
     "text": [
      "/Users/sebastienvallin/.pyenv/versions/3.8.12/envs/sebenv/lib/python3.8/site-packages/numpy/lib/arraysetops.py:580: FutureWarning:\n",
      "\n",
      "elementwise comparison failed; returning scalar instead, but in the future will perform elementwise comparison\n",
      "\n"
     ]
    },
    {
     "name": "stdout",
     "output_type": "stream",
     "text": [
      "Shape : (2719493, 16)\n"
     ]
    },
    {
     "data": {
      "text/html": [
       "<div>\n",
       "<style scoped>\n",
       "    .dataframe tbody tr th:only-of-type {\n",
       "        vertical-align: middle;\n",
       "    }\n",
       "\n",
       "    .dataframe tbody tr th {\n",
       "        vertical-align: top;\n",
       "    }\n",
       "\n",
       "    .dataframe thead th {\n",
       "        text-align: right;\n",
       "    }\n",
       "</style>\n",
       "<table border=\"1\" class=\"dataframe\">\n",
       "  <thead>\n",
       "    <tr style=\"text-align: right;\">\n",
       "      <th></th>\n",
       "      <th>station_id</th>\n",
       "      <th>docks_available</th>\n",
       "      <th>is_installed</th>\n",
       "      <th>is_returning</th>\n",
       "      <th>is_renting</th>\n",
       "      <th>mechanical_available</th>\n",
       "      <th>ebike_available</th>\n",
       "      <th>time</th>\n",
       "      <th>name</th>\n",
       "      <th>lat</th>\n",
       "      <th>lon</th>\n",
       "      <th>capacity</th>\n",
       "      <th>temp2m</th>\n",
       "      <th>probarain</th>\n",
       "      <th>weather</th>\n",
       "      <th>wind10m</th>\n",
       "    </tr>\n",
       "  </thead>\n",
       "  <tbody>\n",
       "    <tr>\n",
       "      <th>0</th>\n",
       "      <td>213688169</td>\n",
       "      <td>31</td>\n",
       "      <td>True</td>\n",
       "      <td>True</td>\n",
       "      <td>True</td>\n",
       "      <td>3</td>\n",
       "      <td>1</td>\n",
       "      <td>2022-03-19 17:26:50</td>\n",
       "      <td>Benjamin Godard - Victor Hugo</td>\n",
       "      <td>48.865983</td>\n",
       "      <td>2.275725</td>\n",
       "      <td>35</td>\n",
       "      <td>NaN</td>\n",
       "      <td>NaN</td>\n",
       "      <td>NaN</td>\n",
       "      <td>NaN</td>\n",
       "    </tr>\n",
       "    <tr>\n",
       "      <th>1</th>\n",
       "      <td>516709288</td>\n",
       "      <td>19</td>\n",
       "      <td>True</td>\n",
       "      <td>True</td>\n",
       "      <td>True</td>\n",
       "      <td>0</td>\n",
       "      <td>1</td>\n",
       "      <td>2022-03-19 17:26:50</td>\n",
       "      <td>Charonne - Robert et Sonia Delauney</td>\n",
       "      <td>48.855908</td>\n",
       "      <td>2.392571</td>\n",
       "      <td>20</td>\n",
       "      <td>NaN</td>\n",
       "      <td>NaN</td>\n",
       "      <td>NaN</td>\n",
       "      <td>NaN</td>\n",
       "    </tr>\n",
       "    <tr>\n",
       "      <th>2</th>\n",
       "      <td>36255</td>\n",
       "      <td>14</td>\n",
       "      <td>True</td>\n",
       "      <td>True</td>\n",
       "      <td>True</td>\n",
       "      <td>0</td>\n",
       "      <td>7</td>\n",
       "      <td>2022-03-19 17:26:50</td>\n",
       "      <td>Toudouze - Clauzel</td>\n",
       "      <td>48.879296</td>\n",
       "      <td>2.337360</td>\n",
       "      <td>21</td>\n",
       "      <td>NaN</td>\n",
       "      <td>NaN</td>\n",
       "      <td>NaN</td>\n",
       "      <td>NaN</td>\n",
       "    </tr>\n",
       "    <tr>\n",
       "      <th>3</th>\n",
       "      <td>37815204</td>\n",
       "      <td>22</td>\n",
       "      <td>True</td>\n",
       "      <td>True</td>\n",
       "      <td>True</td>\n",
       "      <td>3</td>\n",
       "      <td>4</td>\n",
       "      <td>2022-03-19 17:26:50</td>\n",
       "      <td>Mairie du 12ème</td>\n",
       "      <td>48.840855</td>\n",
       "      <td>2.387555</td>\n",
       "      <td>30</td>\n",
       "      <td>NaN</td>\n",
       "      <td>NaN</td>\n",
       "      <td>NaN</td>\n",
       "      <td>NaN</td>\n",
       "    </tr>\n",
       "    <tr>\n",
       "      <th>4</th>\n",
       "      <td>100769544</td>\n",
       "      <td>0</td>\n",
       "      <td>True</td>\n",
       "      <td>True</td>\n",
       "      <td>True</td>\n",
       "      <td>22</td>\n",
       "      <td>23</td>\n",
       "      <td>2022-03-19 17:26:50</td>\n",
       "      <td>Harpe - Saint-Germain</td>\n",
       "      <td>48.851519</td>\n",
       "      <td>2.343670</td>\n",
       "      <td>45</td>\n",
       "      <td>NaN</td>\n",
       "      <td>NaN</td>\n",
       "      <td>NaN</td>\n",
       "      <td>NaN</td>\n",
       "    </tr>\n",
       "  </tbody>\n",
       "</table>\n",
       "</div>"
      ],
      "text/plain": [
       "   station_id  docks_available  is_installed  is_returning  is_renting  \\\n",
       "0   213688169               31          True          True        True   \n",
       "1   516709288               19          True          True        True   \n",
       "2       36255               14          True          True        True   \n",
       "3    37815204               22          True          True        True   \n",
       "4   100769544                0          True          True        True   \n",
       "\n",
       "   mechanical_available  ebike_available                time  \\\n",
       "0                     3                1 2022-03-19 17:26:50   \n",
       "1                     0                1 2022-03-19 17:26:50   \n",
       "2                     0                7 2022-03-19 17:26:50   \n",
       "3                     3                4 2022-03-19 17:26:50   \n",
       "4                    22               23 2022-03-19 17:26:50   \n",
       "\n",
       "                                  name        lat       lon  capacity  temp2m  \\\n",
       "0        Benjamin Godard - Victor Hugo  48.865983  2.275725        35     NaN   \n",
       "1  Charonne - Robert et Sonia Delauney  48.855908  2.392571        20     NaN   \n",
       "2                   Toudouze - Clauzel  48.879296  2.337360        21     NaN   \n",
       "3                      Mairie du 12ème  48.840855  2.387555        30     NaN   \n",
       "4                Harpe - Saint-Germain  48.851519  2.343670        45     NaN   \n",
       "\n",
       "   probarain  weather  wind10m  \n",
       "0        NaN      NaN      NaN  \n",
       "1        NaN      NaN      NaN  \n",
       "2        NaN      NaN      NaN  \n",
       "3        NaN      NaN      NaN  \n",
       "4        NaN      NaN      NaN  "
      ]
     },
     "execution_count": 158,
     "metadata": {},
     "output_type": "execute_result"
    }
   ],
   "source": [
    "df = pd.read_csv('/Users/sebastienvallin/code/Sebastien01/velib_prediction/raw_data/historique_velib.csv',\n",
    "                 index_col=0)\n",
    "df.time = pd.to_datetime(df.time)\n",
    "print(f'Shape : {df.shape}')\n",
    "df.head()"
   ]
  },
  {
   "cell_type": "markdown",
   "id": "2269a4d0",
   "metadata": {},
   "source": [
    "## Look for missing data"
   ]
  },
  {
   "cell_type": "code",
   "execution_count": 241,
   "id": "2601edd8",
   "metadata": {},
   "outputs": [
    {
     "data": {
      "text/plain": [
       "station_id              0\n",
       "docks_available         0\n",
       "is_installed            0\n",
       "is_returning            0\n",
       "is_renting              0\n",
       "mechanical_available    0\n",
       "ebike_available         0\n",
       "name                    0\n",
       "lat                     0\n",
       "lon                     0\n",
       "capacity                0\n",
       "temp2m                  0\n",
       "probarain               0\n",
       "weather                 0\n",
       "wind10m                 0\n",
       "dtype: int64"
      ]
     },
     "execution_count": 241,
     "metadata": {},
     "output_type": "execute_result"
    }
   ],
   "source": [
    "df.isin([999,9999,99999,'*',\"?\",np.inf]).sum()"
   ]
  },
  {
   "cell_type": "code",
   "execution_count": 159,
   "id": "10b8e46e",
   "metadata": {},
   "outputs": [
    {
     "data": {
      "text/plain": [
       "station_id                0.000000\n",
       "docks_available           0.000000\n",
       "is_installed              0.000000\n",
       "is_returning              0.000000\n",
       "is_renting                0.000000\n",
       "mechanical_available      0.000000\n",
       "ebike_available           0.000000\n",
       "time                      0.000000\n",
       "name                      0.000000\n",
       "lat                       0.000000\n",
       "lon                       0.000000\n",
       "capacity                  0.000000\n",
       "temp2m                  296.585774\n",
       "probarain               296.585774\n",
       "weather                 296.585774\n",
       "wind10m                 296.585774\n",
       "dtype: float64"
      ]
     },
     "execution_count": 159,
     "metadata": {},
     "output_type": "execute_result"
    }
   ],
   "source": [
    "df.isnull().sum()/df.station_id.nunique()"
   ]
  },
  {
   "cell_type": "code",
   "execution_count": 204,
   "id": "e2fb7e39",
   "metadata": {},
   "outputs": [
    {
     "data": {
      "text/plain": [
       "Timestamp('2022-03-22 19:58:53')"
      ]
     },
     "execution_count": 204,
     "metadata": {},
     "output_type": "execute_result"
    }
   ],
   "source": [
    "df.set_index('time',inplace=True)\n",
    "df[~df.temp2m.isnull()].sort_index().index[0]"
   ]
  },
  {
   "cell_type": "markdown",
   "id": "eff00cc5",
   "metadata": {},
   "source": [
    "We are missing meteo data on our firsts 297 time steps. That's because I added the meteo API a bit after I started collecting velib infos. Fortnuatly I took a screenshot of the meteo infos on the missing days until 22/03 19h58"
   ]
  },
  {
   "cell_type": "code",
   "execution_count": 214,
   "id": "aad37558",
   "metadata": {},
   "outputs": [
    {
     "data": {
      "text/html": [
       "<div>\n",
       "<style scoped>\n",
       "    .dataframe tbody tr th:only-of-type {\n",
       "        vertical-align: middle;\n",
       "    }\n",
       "\n",
       "    .dataframe tbody tr th {\n",
       "        vertical-align: top;\n",
       "    }\n",
       "\n",
       "    .dataframe thead th {\n",
       "        text-align: right;\n",
       "    }\n",
       "</style>\n",
       "<table border=\"1\" class=\"dataframe\">\n",
       "  <thead>\n",
       "    <tr style=\"text-align: right;\">\n",
       "      <th></th>\n",
       "      <th>station_id</th>\n",
       "      <th>docks_available</th>\n",
       "      <th>is_installed</th>\n",
       "      <th>is_returning</th>\n",
       "      <th>is_renting</th>\n",
       "      <th>mechanical_available</th>\n",
       "      <th>ebike_available</th>\n",
       "      <th>name</th>\n",
       "      <th>lat</th>\n",
       "      <th>lon</th>\n",
       "      <th>capacity</th>\n",
       "      <th>temp2m</th>\n",
       "      <th>probarain</th>\n",
       "      <th>weather</th>\n",
       "      <th>wind10m</th>\n",
       "    </tr>\n",
       "    <tr>\n",
       "      <th>time</th>\n",
       "      <th></th>\n",
       "      <th></th>\n",
       "      <th></th>\n",
       "      <th></th>\n",
       "      <th></th>\n",
       "      <th></th>\n",
       "      <th></th>\n",
       "      <th></th>\n",
       "      <th></th>\n",
       "      <th></th>\n",
       "      <th></th>\n",
       "      <th></th>\n",
       "      <th></th>\n",
       "      <th></th>\n",
       "      <th></th>\n",
       "    </tr>\n",
       "  </thead>\n",
       "  <tbody>\n",
       "    <tr>\n",
       "      <th>2022-03-22 19:58:53</th>\n",
       "      <td>213688169</td>\n",
       "      <td>31</td>\n",
       "      <td>True</td>\n",
       "      <td>True</td>\n",
       "      <td>True</td>\n",
       "      <td>1</td>\n",
       "      <td>3</td>\n",
       "      <td>Benjamin Godard - Victor Hugo</td>\n",
       "      <td>48.865983</td>\n",
       "      <td>2.275725</td>\n",
       "      <td>35</td>\n",
       "      <td>16.0</td>\n",
       "      <td>0.0</td>\n",
       "      <td>0.0</td>\n",
       "      <td>9.0</td>\n",
       "    </tr>\n",
       "    <tr>\n",
       "      <th>2022-03-22 19:58:53</th>\n",
       "      <td>516709288</td>\n",
       "      <td>18</td>\n",
       "      <td>True</td>\n",
       "      <td>True</td>\n",
       "      <td>True</td>\n",
       "      <td>2</td>\n",
       "      <td>0</td>\n",
       "      <td>Charonne - Robert et Sonia Delauney</td>\n",
       "      <td>48.855908</td>\n",
       "      <td>2.392571</td>\n",
       "      <td>20</td>\n",
       "      <td>16.0</td>\n",
       "      <td>0.0</td>\n",
       "      <td>0.0</td>\n",
       "      <td>9.0</td>\n",
       "    </tr>\n",
       "  </tbody>\n",
       "</table>\n",
       "</div>"
      ],
      "text/plain": [
       "                     station_id  docks_available  is_installed  is_returning  \\\n",
       "time                                                                           \n",
       "2022-03-22 19:58:53   213688169               31          True          True   \n",
       "2022-03-22 19:58:53   516709288               18          True          True   \n",
       "\n",
       "                     is_renting  mechanical_available  ebike_available  \\\n",
       "time                                                                     \n",
       "2022-03-22 19:58:53        True                     1                3   \n",
       "2022-03-22 19:58:53        True                     2                0   \n",
       "\n",
       "                                                    name        lat       lon  \\\n",
       "time                                                                            \n",
       "2022-03-22 19:58:53        Benjamin Godard - Victor Hugo  48.865983  2.275725   \n",
       "2022-03-22 19:58:53  Charonne - Robert et Sonia Delauney  48.855908  2.392571   \n",
       "\n",
       "                     capacity  temp2m  probarain  weather  wind10m  \n",
       "time                                                                \n",
       "2022-03-22 19:58:53        35    16.0        0.0      0.0      9.0  \n",
       "2022-03-22 19:58:53        20    16.0        0.0      0.0      9.0  "
      ]
     },
     "execution_count": 214,
     "metadata": {},
     "output_type": "execute_result"
    }
   ],
   "source": [
    "df[~df.temp2m.isnull()].sort_index().head(2)"
   ]
  },
  {
   "cell_type": "code",
   "execution_count": 219,
   "id": "000a8da4",
   "metadata": {},
   "outputs": [],
   "source": [
    "#raw data I screenshot for the 3 first days\n",
    "time_steps = ['2022-03-19 18','2022-03-20 00','2022-03-20 06','2022-03-20 12','2022-03-20 18','2022-03-21 00','2022-03-21 06','2022-03-21 12','2022-03-21 18','2022-03-22 00','2022-03-22 06','2022-03-22 12','2022-03-22 18','2022-03-23 00']\n",
    "temp2m = [15,14,8,9,12,10,7,15,17,16,12,14,17,16]\n",
    "probarain = np.zeros(len(temp2m))\n",
    "weather = np.zeros(len(temp2m))\n",
    "wind10m = [26,20,18,11,12,8,5,8,11,8,10,13,17,9]\n",
    "assert(len(time_steps)==len(temp2m)==len(probarain)==len(weather)==len(wind10m))"
   ]
  },
  {
   "cell_type": "code",
   "execution_count": 526,
   "id": "a2a95162",
   "metadata": {},
   "outputs": [],
   "source": [
    "velib.head()\n",
    "\n",
    "starting_timestamp = '2022-03-19 17'\n",
    "velib = df.copy()\n",
    "for time,temp,rain,weather_desc,wind in zip(time_steps,temp2m,probarain,weather,wind10m):\n",
    "    velib.loc[starting_timestamp:time,['temp2m','probarain','weather','wind10m']]=[temp,rain,weather_desc,wind]\n",
    "    starting_timestamp = time"
   ]
  },
  {
   "cell_type": "markdown",
   "id": "c782bd7e",
   "metadata": {},
   "source": [
    "## Focus on stations infos"
   ]
  },
  {
   "cell_type": "code",
   "execution_count": 490,
   "id": "d85b6e80",
   "metadata": {},
   "outputs": [
    {
     "data": {
      "text/plain": [
       "213688169      1898\n",
       "1015246367     1898\n",
       "102307005      1898\n",
       "125811629      1898\n",
       "27363337       1898\n",
       "               ... \n",
       "100798076      1898\n",
       "27415327       1898\n",
       "985086307      1898\n",
       "124402232      1898\n",
       "15826185972    1554\n",
       "Name: station_id, Length: 1426, dtype: int64"
      ]
     },
     "execution_count": 490,
     "metadata": {},
     "output_type": "execute_result"
    }
   ],
   "source": [
    "velib.station_id.value_counts()"
   ]
  },
  {
   "cell_type": "code",
   "execution_count": 48,
   "id": "b7e60987",
   "metadata": {},
   "outputs": [
    {
     "data": {
      "text/plain": [
       "-1"
      ]
     },
     "execution_count": 48,
     "metadata": {},
     "output_type": "execute_result"
    }
   ],
   "source": [
    "df.station_id.nunique() - df.name.nunique()"
   ]
  },
  {
   "cell_type": "markdown",
   "id": "1dfa0312",
   "metadata": {},
   "source": [
    "One station ID has 2 names ..."
   ]
  },
  {
   "cell_type": "code",
   "execution_count": 114,
   "id": "f8c58a21",
   "metadata": {},
   "outputs": [],
   "source": [
    "#Spotted the error in stations names\n",
    "df.name = df.name.replace({'Jemmapes - Ecluses Saint-Martin ':'Jemmapes - Ecluses Saint-Martin'})"
   ]
  },
  {
   "cell_type": "code",
   "execution_count": 118,
   "id": "4a06ecab",
   "metadata": {},
   "outputs": [
    {
     "data": {
      "text/html": [
       "<div>\n",
       "<style scoped>\n",
       "    .dataframe tbody tr th:only-of-type {\n",
       "        vertical-align: middle;\n",
       "    }\n",
       "\n",
       "    .dataframe tbody tr th {\n",
       "        vertical-align: top;\n",
       "    }\n",
       "\n",
       "    .dataframe thead th {\n",
       "        text-align: right;\n",
       "    }\n",
       "</style>\n",
       "<table border=\"1\" class=\"dataframe\">\n",
       "  <thead>\n",
       "    <tr style=\"text-align: right;\">\n",
       "      <th></th>\n",
       "      <th>name</th>\n",
       "      <th>lat</th>\n",
       "      <th>lon</th>\n",
       "      <th>capacity</th>\n",
       "    </tr>\n",
       "    <tr>\n",
       "      <th>station_id</th>\n",
       "      <th></th>\n",
       "      <th></th>\n",
       "      <th></th>\n",
       "      <th></th>\n",
       "    </tr>\n",
       "  </thead>\n",
       "  <tbody>\n",
       "    <tr>\n",
       "      <th>213688169</th>\n",
       "      <td>Benjamin Godard - Victor Hugo</td>\n",
       "      <td>48.865983</td>\n",
       "      <td>2.275725</td>\n",
       "      <td>35</td>\n",
       "    </tr>\n",
       "    <tr>\n",
       "      <th>516709288</th>\n",
       "      <td>Charonne - Robert et Sonia Delauney</td>\n",
       "      <td>48.855908</td>\n",
       "      <td>2.392571</td>\n",
       "      <td>20</td>\n",
       "    </tr>\n",
       "    <tr>\n",
       "      <th>36255</th>\n",
       "      <td>Toudouze - Clauzel</td>\n",
       "      <td>48.879296</td>\n",
       "      <td>2.337360</td>\n",
       "      <td>21</td>\n",
       "    </tr>\n",
       "  </tbody>\n",
       "</table>\n",
       "</div>"
      ],
      "text/plain": [
       "                                           name        lat       lon  capacity\n",
       "station_id                                                                    \n",
       "213688169         Benjamin Godard - Victor Hugo  48.865983  2.275725        35\n",
       "516709288   Charonne - Robert et Sonia Delauney  48.855908  2.392571        20\n",
       "36255                        Toudouze - Clauzel  48.879296  2.337360        21"
      ]
     },
     "execution_count": 118,
     "metadata": {},
     "output_type": "execute_result"
    }
   ],
   "source": [
    "stations_df = df[['station_id','name','lat','lon','capacity']].drop_duplicates().set_index('station_id')\n",
    "stations_df.head(3)"
   ]
  },
  {
   "cell_type": "code",
   "execution_count": 278,
   "id": "b6d914fc",
   "metadata": {},
   "outputs": [
    {
     "data": {
      "text/plain": [
       "count    1471.000000\n",
       "mean       31.375935\n",
       "std        11.850345\n",
       "min         0.000000\n",
       "25%        23.000000\n",
       "50%        29.000000\n",
       "75%        37.000000\n",
       "max        74.000000\n",
       "Name: capacity, dtype: float64"
      ]
     },
     "execution_count": 278,
     "metadata": {},
     "output_type": "execute_result"
    }
   ],
   "source": [
    "stations_df.capacity.describe()"
   ]
  },
  {
   "cell_type": "code",
   "execution_count": 277,
   "id": "00ef2dc7",
   "metadata": {},
   "outputs": [
    {
     "data": {
      "image/png": "[encoded data removed]",
      "text/plain": [
       "<Figure size 360x360 with 1 Axes>"
      ]
     },
     "metadata": {
      "needs_background": "light"
     },
     "output_type": "display_data"
    }
   ],
   "source": [
    "sns.displot(stations_df.capacity,kde=True,bins=30,color='grey',).set(title='Stations capacity distribution');"
   ]
  },
  {
   "cell_type": "markdown",
   "id": "72de2f0f",
   "metadata": {},
   "source": [
    "Some stations doesn't have any capacity, let's do a quick dive in"
   ]
  },
  {
   "cell_type": "code",
   "execution_count": 282,
   "id": "db7455a3",
   "metadata": {},
   "outputs": [],
   "source": [
    "low_capa = stations_df[stations_df.capacity<=5].index"
   ]
  },
  {
   "cell_type": "code",
   "execution_count": 285,
   "id": "0529fe16",
   "metadata": {},
   "outputs": [
    {
     "data": {
      "text/plain": [
       "station_id\n",
       "54000558        0\n",
       "57958061        3\n",
       "76199110        0\n",
       "265201872       0\n",
       "907081682       0\n",
       "13373758036     0\n",
       "15066765479     0\n",
       "15550433574    38\n",
       "Name: capacity, dtype: int64"
      ]
     },
     "execution_count": 285,
     "metadata": {},
     "output_type": "execute_result"
    }
   ],
   "source": [
    "velib[velib.station_id.isin(low_capa)].groupby('station_id').max()['capacity']"
   ]
  },
  {
   "cell_type": "code",
   "execution_count": 527,
   "id": "ffee9561",
   "metadata": {
    "scrolled": true
   },
   "outputs": [
    {
     "data": {
      "text/html": [
       "<div>\n",
       "<style scoped>\n",
       "    .dataframe tbody tr th:only-of-type {\n",
       "        vertical-align: middle;\n",
       "    }\n",
       "\n",
       "    .dataframe tbody tr th {\n",
       "        vertical-align: top;\n",
       "    }\n",
       "\n",
       "    .dataframe thead th {\n",
       "        text-align: right;\n",
       "    }\n",
       "</style>\n",
       "<table border=\"1\" class=\"dataframe\">\n",
       "  <thead>\n",
       "    <tr style=\"text-align: right;\">\n",
       "      <th></th>\n",
       "      <th>station_id</th>\n",
       "      <th>docks_available</th>\n",
       "      <th>is_installed</th>\n",
       "      <th>is_returning</th>\n",
       "      <th>is_renting</th>\n",
       "      <th>mechanical_available</th>\n",
       "      <th>ebike_available</th>\n",
       "      <th>name</th>\n",
       "      <th>lat</th>\n",
       "      <th>lon</th>\n",
       "      <th>capacity</th>\n",
       "      <th>temp2m</th>\n",
       "      <th>probarain</th>\n",
       "      <th>weather</th>\n",
       "      <th>wind10m</th>\n",
       "    </tr>\n",
       "    <tr>\n",
       "      <th>time</th>\n",
       "      <th></th>\n",
       "      <th></th>\n",
       "      <th></th>\n",
       "      <th></th>\n",
       "      <th></th>\n",
       "      <th></th>\n",
       "      <th></th>\n",
       "      <th></th>\n",
       "      <th></th>\n",
       "      <th></th>\n",
       "      <th></th>\n",
       "      <th></th>\n",
       "      <th></th>\n",
       "      <th></th>\n",
       "      <th></th>\n",
       "    </tr>\n",
       "  </thead>\n",
       "  <tbody>\n",
       "    <tr>\n",
       "      <th>2022-03-19</th>\n",
       "      <td>1.555043e+10</td>\n",
       "      <td>0.0</td>\n",
       "      <td>0.0</td>\n",
       "      <td>0.0</td>\n",
       "      <td>0.0</td>\n",
       "      <td>0.0</td>\n",
       "      <td>0.0</td>\n",
       "      <td>Martyrs de Châteaubriant - Jean Grandel</td>\n",
       "      <td>48.951432</td>\n",
       "      <td>2.211214</td>\n",
       "      <td>0.0</td>\n",
       "      <td>15.0</td>\n",
       "      <td>0.0</td>\n",
       "      <td>0.0</td>\n",
       "      <td>26.0</td>\n",
       "    </tr>\n",
       "    <tr>\n",
       "      <th>2022-03-20</th>\n",
       "      <td>1.555043e+10</td>\n",
       "      <td>0.0</td>\n",
       "      <td>0.0</td>\n",
       "      <td>0.0</td>\n",
       "      <td>0.0</td>\n",
       "      <td>0.0</td>\n",
       "      <td>0.0</td>\n",
       "      <td>Martyrs de Châteaubriant - Jean Grandel</td>\n",
       "      <td>48.951432</td>\n",
       "      <td>2.211214</td>\n",
       "      <td>0.0</td>\n",
       "      <td>12.0</td>\n",
       "      <td>0.0</td>\n",
       "      <td>0.0</td>\n",
       "      <td>18.0</td>\n",
       "    </tr>\n",
       "    <tr>\n",
       "      <th>2022-03-21</th>\n",
       "      <td>1.555043e+10</td>\n",
       "      <td>0.0</td>\n",
       "      <td>0.0</td>\n",
       "      <td>0.0</td>\n",
       "      <td>0.0</td>\n",
       "      <td>0.0</td>\n",
       "      <td>0.0</td>\n",
       "      <td>Martyrs de Châteaubriant - Jean Grandel</td>\n",
       "      <td>48.951432</td>\n",
       "      <td>2.211214</td>\n",
       "      <td>0.0</td>\n",
       "      <td>17.0</td>\n",
       "      <td>0.0</td>\n",
       "      <td>0.0</td>\n",
       "      <td>11.0</td>\n",
       "    </tr>\n",
       "    <tr>\n",
       "      <th>2022-03-22</th>\n",
       "      <td>1.555043e+10</td>\n",
       "      <td>0.0</td>\n",
       "      <td>0.0</td>\n",
       "      <td>0.0</td>\n",
       "      <td>0.0</td>\n",
       "      <td>0.0</td>\n",
       "      <td>0.0</td>\n",
       "      <td>Martyrs de Châteaubriant - Jean Grandel</td>\n",
       "      <td>48.951432</td>\n",
       "      <td>2.211214</td>\n",
       "      <td>0.0</td>\n",
       "      <td>17.0</td>\n",
       "      <td>0.0</td>\n",
       "      <td>0.0</td>\n",
       "      <td>17.0</td>\n",
       "    </tr>\n",
       "    <tr>\n",
       "      <th>2022-03-23</th>\n",
       "      <td>1.555043e+10</td>\n",
       "      <td>0.0</td>\n",
       "      <td>0.0</td>\n",
       "      <td>0.0</td>\n",
       "      <td>0.0</td>\n",
       "      <td>0.0</td>\n",
       "      <td>0.0</td>\n",
       "      <td>Martyrs de Châteaubriant - Jean Grandel</td>\n",
       "      <td>48.951432</td>\n",
       "      <td>2.211214</td>\n",
       "      <td>0.0</td>\n",
       "      <td>17.0</td>\n",
       "      <td>0.0</td>\n",
       "      <td>0.0</td>\n",
       "      <td>9.0</td>\n",
       "    </tr>\n",
       "    <tr>\n",
       "      <th>2022-03-24</th>\n",
       "      <td>NaN</td>\n",
       "      <td>NaN</td>\n",
       "      <td>NaN</td>\n",
       "      <td>NaN</td>\n",
       "      <td>NaN</td>\n",
       "      <td>NaN</td>\n",
       "      <td>NaN</td>\n",
       "      <td>NaN</td>\n",
       "      <td>NaN</td>\n",
       "      <td>NaN</td>\n",
       "      <td>NaN</td>\n",
       "      <td>NaN</td>\n",
       "      <td>NaN</td>\n",
       "      <td>NaN</td>\n",
       "      <td>NaN</td>\n",
       "    </tr>\n",
       "    <tr>\n",
       "      <th>2022-03-25</th>\n",
       "      <td>1.555043e+10</td>\n",
       "      <td>0.0</td>\n",
       "      <td>0.0</td>\n",
       "      <td>0.0</td>\n",
       "      <td>0.0</td>\n",
       "      <td>0.0</td>\n",
       "      <td>0.0</td>\n",
       "      <td>Martyrs de Châteaubriant - Jean Grandel</td>\n",
       "      <td>48.951432</td>\n",
       "      <td>2.211214</td>\n",
       "      <td>0.0</td>\n",
       "      <td>13.0</td>\n",
       "      <td>0.0</td>\n",
       "      <td>0.0</td>\n",
       "      <td>9.0</td>\n",
       "    </tr>\n",
       "    <tr>\n",
       "      <th>2022-03-26</th>\n",
       "      <td>1.555043e+10</td>\n",
       "      <td>0.0</td>\n",
       "      <td>0.0</td>\n",
       "      <td>0.0</td>\n",
       "      <td>0.0</td>\n",
       "      <td>0.0</td>\n",
       "      <td>0.0</td>\n",
       "      <td>Martyrs de Châteaubriant - Jean Grandel</td>\n",
       "      <td>48.951432</td>\n",
       "      <td>2.211214</td>\n",
       "      <td>0.0</td>\n",
       "      <td>19.0</td>\n",
       "      <td>0.0</td>\n",
       "      <td>0.0</td>\n",
       "      <td>13.0</td>\n",
       "    </tr>\n",
       "    <tr>\n",
       "      <th>2022-03-27</th>\n",
       "      <td>1.555043e+10</td>\n",
       "      <td>0.0</td>\n",
       "      <td>0.0</td>\n",
       "      <td>0.0</td>\n",
       "      <td>0.0</td>\n",
       "      <td>0.0</td>\n",
       "      <td>0.0</td>\n",
       "      <td>Martyrs de Châteaubriant - Jean Grandel</td>\n",
       "      <td>48.951432</td>\n",
       "      <td>2.211214</td>\n",
       "      <td>0.0</td>\n",
       "      <td>21.0</td>\n",
       "      <td>0.0</td>\n",
       "      <td>0.0</td>\n",
       "      <td>10.0</td>\n",
       "    </tr>\n",
       "    <tr>\n",
       "      <th>2022-03-28</th>\n",
       "      <td>1.555043e+10</td>\n",
       "      <td>38.0</td>\n",
       "      <td>0.0</td>\n",
       "      <td>0.0</td>\n",
       "      <td>0.0</td>\n",
       "      <td>0.0</td>\n",
       "      <td>0.0</td>\n",
       "      <td>Martyrs de Châteaubriant - Jean Grandel</td>\n",
       "      <td>48.951432</td>\n",
       "      <td>2.211214</td>\n",
       "      <td>38.0</td>\n",
       "      <td>21.0</td>\n",
       "      <td>0.0</td>\n",
       "      <td>3.0</td>\n",
       "      <td>10.0</td>\n",
       "    </tr>\n",
       "    <tr>\n",
       "      <th>2022-03-29</th>\n",
       "      <td>1.555043e+10</td>\n",
       "      <td>38.0</td>\n",
       "      <td>0.0</td>\n",
       "      <td>0.0</td>\n",
       "      <td>0.0</td>\n",
       "      <td>0.0</td>\n",
       "      <td>0.0</td>\n",
       "      <td>Martyrs de Châteaubriant - Jean Grandel</td>\n",
       "      <td>48.951432</td>\n",
       "      <td>2.211214</td>\n",
       "      <td>38.0</td>\n",
       "      <td>18.0</td>\n",
       "      <td>90.0</td>\n",
       "      <td>211.0</td>\n",
       "      <td>13.0</td>\n",
       "    </tr>\n",
       "    <tr>\n",
       "      <th>2022-03-30</th>\n",
       "      <td>1.555043e+10</td>\n",
       "      <td>38.0</td>\n",
       "      <td>0.0</td>\n",
       "      <td>0.0</td>\n",
       "      <td>0.0</td>\n",
       "      <td>0.0</td>\n",
       "      <td>0.0</td>\n",
       "      <td>Martyrs de Châteaubriant - Jean Grandel</td>\n",
       "      <td>48.951432</td>\n",
       "      <td>2.211214</td>\n",
       "      <td>38.0</td>\n",
       "      <td>14.0</td>\n",
       "      <td>80.0</td>\n",
       "      <td>40.0</td>\n",
       "      <td>10.0</td>\n",
       "    </tr>\n",
       "    <tr>\n",
       "      <th>2022-03-31</th>\n",
       "      <td>1.555043e+10</td>\n",
       "      <td>38.0</td>\n",
       "      <td>0.0</td>\n",
       "      <td>0.0</td>\n",
       "      <td>0.0</td>\n",
       "      <td>0.0</td>\n",
       "      <td>0.0</td>\n",
       "      <td>Martyrs de Châteaubriant - Jean Grandel</td>\n",
       "      <td>48.951432</td>\n",
       "      <td>2.211214</td>\n",
       "      <td>38.0</td>\n",
       "      <td>11.0</td>\n",
       "      <td>60.0</td>\n",
       "      <td>40.0</td>\n",
       "      <td>25.0</td>\n",
       "    </tr>\n",
       "    <tr>\n",
       "      <th>2022-04-01</th>\n",
       "      <td>1.555043e+10</td>\n",
       "      <td>38.0</td>\n",
       "      <td>0.0</td>\n",
       "      <td>0.0</td>\n",
       "      <td>0.0</td>\n",
       "      <td>0.0</td>\n",
       "      <td>0.0</td>\n",
       "      <td>Martyrs de Châteaubriant - Jean Grandel</td>\n",
       "      <td>48.951432</td>\n",
       "      <td>2.211214</td>\n",
       "      <td>38.0</td>\n",
       "      <td>4.0</td>\n",
       "      <td>100.0</td>\n",
       "      <td>220.0</td>\n",
       "      <td>25.0</td>\n",
       "    </tr>\n",
       "    <tr>\n",
       "      <th>2022-04-02</th>\n",
       "      <td>1.555043e+10</td>\n",
       "      <td>38.0</td>\n",
       "      <td>0.0</td>\n",
       "      <td>0.0</td>\n",
       "      <td>0.0</td>\n",
       "      <td>0.0</td>\n",
       "      <td>0.0</td>\n",
       "      <td>Martyrs de Châteaubriant - Jean Grandel</td>\n",
       "      <td>48.951432</td>\n",
       "      <td>2.211214</td>\n",
       "      <td>38.0</td>\n",
       "      <td>8.0</td>\n",
       "      <td>60.0</td>\n",
       "      <td>73.0</td>\n",
       "      <td>24.0</td>\n",
       "    </tr>\n",
       "    <tr>\n",
       "      <th>2022-04-03</th>\n",
       "      <td>1.555043e+10</td>\n",
       "      <td>38.0</td>\n",
       "      <td>0.0</td>\n",
       "      <td>0.0</td>\n",
       "      <td>0.0</td>\n",
       "      <td>0.0</td>\n",
       "      <td>0.0</td>\n",
       "      <td>Martyrs de Châteaubriant - Jean Grandel</td>\n",
       "      <td>48.951432</td>\n",
       "      <td>2.211214</td>\n",
       "      <td>38.0</td>\n",
       "      <td>8.0</td>\n",
       "      <td>30.0</td>\n",
       "      <td>70.0</td>\n",
       "      <td>20.0</td>\n",
       "    </tr>\n",
       "    <tr>\n",
       "      <th>2022-04-04</th>\n",
       "      <td>1.555043e+10</td>\n",
       "      <td>38.0</td>\n",
       "      <td>0.0</td>\n",
       "      <td>0.0</td>\n",
       "      <td>0.0</td>\n",
       "      <td>0.0</td>\n",
       "      <td>0.0</td>\n",
       "      <td>Martyrs de Châteaubriant - Jean Grandel</td>\n",
       "      <td>48.951432</td>\n",
       "      <td>2.211214</td>\n",
       "      <td>38.0</td>\n",
       "      <td>10.0</td>\n",
       "      <td>50.0</td>\n",
       "      <td>10.0</td>\n",
       "      <td>21.0</td>\n",
       "    </tr>\n",
       "    <tr>\n",
       "      <th>2022-04-05</th>\n",
       "      <td>1.555043e+10</td>\n",
       "      <td>38.0</td>\n",
       "      <td>0.0</td>\n",
       "      <td>0.0</td>\n",
       "      <td>0.0</td>\n",
       "      <td>0.0</td>\n",
       "      <td>0.0</td>\n",
       "      <td>Martyrs de Châteaubriant - Jean Grandel</td>\n",
       "      <td>48.951432</td>\n",
       "      <td>2.211214</td>\n",
       "      <td>38.0</td>\n",
       "      <td>15.0</td>\n",
       "      <td>50.0</td>\n",
       "      <td>40.0</td>\n",
       "      <td>16.0</td>\n",
       "    </tr>\n",
       "    <tr>\n",
       "      <th>2022-04-06</th>\n",
       "      <td>1.555043e+10</td>\n",
       "      <td>38.0</td>\n",
       "      <td>0.0</td>\n",
       "      <td>0.0</td>\n",
       "      <td>0.0</td>\n",
       "      <td>0.0</td>\n",
       "      <td>0.0</td>\n",
       "      <td>Martyrs de Châteaubriant - Jean Grandel</td>\n",
       "      <td>48.951432</td>\n",
       "      <td>2.211214</td>\n",
       "      <td>38.0</td>\n",
       "      <td>14.0</td>\n",
       "      <td>50.0</td>\n",
       "      <td>10.0</td>\n",
       "      <td>22.0</td>\n",
       "    </tr>\n",
       "    <tr>\n",
       "      <th>2022-04-07</th>\n",
       "      <td>1.555043e+10</td>\n",
       "      <td>38.0</td>\n",
       "      <td>0.0</td>\n",
       "      <td>0.0</td>\n",
       "      <td>0.0</td>\n",
       "      <td>0.0</td>\n",
       "      <td>0.0</td>\n",
       "      <td>Martyrs de Châteaubriant - Jean Grandel</td>\n",
       "      <td>48.951432</td>\n",
       "      <td>2.211214</td>\n",
       "      <td>38.0</td>\n",
       "      <td>14.0</td>\n",
       "      <td>100.0</td>\n",
       "      <td>212.0</td>\n",
       "      <td>33.0</td>\n",
       "    </tr>\n",
       "    <tr>\n",
       "      <th>2022-04-08</th>\n",
       "      <td>1.555043e+10</td>\n",
       "      <td>38.0</td>\n",
       "      <td>0.0</td>\n",
       "      <td>0.0</td>\n",
       "      <td>0.0</td>\n",
       "      <td>0.0</td>\n",
       "      <td>0.0</td>\n",
       "      <td>Martyrs de Châteaubriant - Jean Grandel</td>\n",
       "      <td>48.951432</td>\n",
       "      <td>2.211214</td>\n",
       "      <td>38.0</td>\n",
       "      <td>9.0</td>\n",
       "      <td>100.0</td>\n",
       "      <td>211.0</td>\n",
       "      <td>19.0</td>\n",
       "    </tr>\n",
       "    <tr>\n",
       "      <th>2022-04-09</th>\n",
       "      <td>1.555043e+10</td>\n",
       "      <td>38.0</td>\n",
       "      <td>0.0</td>\n",
       "      <td>0.0</td>\n",
       "      <td>0.0</td>\n",
       "      <td>0.0</td>\n",
       "      <td>0.0</td>\n",
       "      <td>Martyrs de Châteaubriant - Jean Grandel</td>\n",
       "      <td>48.951432</td>\n",
       "      <td>2.211214</td>\n",
       "      <td>38.0</td>\n",
       "      <td>11.0</td>\n",
       "      <td>60.0</td>\n",
       "      <td>210.0</td>\n",
       "      <td>12.0</td>\n",
       "    </tr>\n",
       "    <tr>\n",
       "      <th>2022-04-10</th>\n",
       "      <td>1.555043e+10</td>\n",
       "      <td>38.0</td>\n",
       "      <td>0.0</td>\n",
       "      <td>0.0</td>\n",
       "      <td>0.0</td>\n",
       "      <td>0.0</td>\n",
       "      <td>0.0</td>\n",
       "      <td>Martyrs de Châteaubriant - Jean Grandel</td>\n",
       "      <td>48.951432</td>\n",
       "      <td>2.211214</td>\n",
       "      <td>38.0</td>\n",
       "      <td>14.0</td>\n",
       "      <td>10.0</td>\n",
       "      <td>2.0</td>\n",
       "      <td>11.0</td>\n",
       "    </tr>\n",
       "    <tr>\n",
       "      <th>2022-04-11</th>\n",
       "      <td>1.555043e+10</td>\n",
       "      <td>38.0</td>\n",
       "      <td>0.0</td>\n",
       "      <td>0.0</td>\n",
       "      <td>0.0</td>\n",
       "      <td>0.0</td>\n",
       "      <td>0.0</td>\n",
       "      <td>Martyrs de Châteaubriant - Jean Grandel</td>\n",
       "      <td>48.951432</td>\n",
       "      <td>2.211214</td>\n",
       "      <td>38.0</td>\n",
       "      <td>11.0</td>\n",
       "      <td>0.0</td>\n",
       "      <td>2.0</td>\n",
       "      <td>10.0</td>\n",
       "    </tr>\n",
       "  </tbody>\n",
       "</table>\n",
       "</div>"
      ],
      "text/plain": [
       "              station_id  docks_available  is_installed  is_returning  \\\n",
       "time                                                                    \n",
       "2022-03-19  1.555043e+10              0.0           0.0           0.0   \n",
       "2022-03-20  1.555043e+10              0.0           0.0           0.0   \n",
       "2022-03-21  1.555043e+10              0.0           0.0           0.0   \n",
       "2022-03-22  1.555043e+10              0.0           0.0           0.0   \n",
       "2022-03-23  1.555043e+10              0.0           0.0           0.0   \n",
       "2022-03-24           NaN              NaN           NaN           NaN   \n",
       "2022-03-25  1.555043e+10              0.0           0.0           0.0   \n",
       "2022-03-26  1.555043e+10              0.0           0.0           0.0   \n",
       "2022-03-27  1.555043e+10              0.0           0.0           0.0   \n",
       "2022-03-28  1.555043e+10             38.0           0.0           0.0   \n",
       "2022-03-29  1.555043e+10             38.0           0.0           0.0   \n",
       "2022-03-30  1.555043e+10             38.0           0.0           0.0   \n",
       "2022-03-31  1.555043e+10             38.0           0.0           0.0   \n",
       "2022-04-01  1.555043e+10             38.0           0.0           0.0   \n",
       "2022-04-02  1.555043e+10             38.0           0.0           0.0   \n",
       "2022-04-03  1.555043e+10             38.0           0.0           0.0   \n",
       "2022-04-04  1.555043e+10             38.0           0.0           0.0   \n",
       "2022-04-05  1.555043e+10             38.0           0.0           0.0   \n",
       "2022-04-06  1.555043e+10             38.0           0.0           0.0   \n",
       "2022-04-07  1.555043e+10             38.0           0.0           0.0   \n",
       "2022-04-08  1.555043e+10             38.0           0.0           0.0   \n",
       "2022-04-09  1.555043e+10             38.0           0.0           0.0   \n",
       "2022-04-10  1.555043e+10             38.0           0.0           0.0   \n",
       "2022-04-11  1.555043e+10             38.0           0.0           0.0   \n",
       "\n",
       "            is_renting  mechanical_available  ebike_available  \\\n",
       "time                                                            \n",
       "2022-03-19         0.0                   0.0              0.0   \n",
       "2022-03-20         0.0                   0.0              0.0   \n",
       "2022-03-21         0.0                   0.0              0.0   \n",
       "2022-03-22         0.0                   0.0              0.0   \n",
       "2022-03-23         0.0                   0.0              0.0   \n",
       "2022-03-24         NaN                   NaN              NaN   \n",
       "2022-03-25         0.0                   0.0              0.0   \n",
       "2022-03-26         0.0                   0.0              0.0   \n",
       "2022-03-27         0.0                   0.0              0.0   \n",
       "2022-03-28         0.0                   0.0              0.0   \n",
       "2022-03-29         0.0                   0.0              0.0   \n",
       "2022-03-30         0.0                   0.0              0.0   \n",
       "2022-03-31         0.0                   0.0              0.0   \n",
       "2022-04-01         0.0                   0.0              0.0   \n",
       "2022-04-02         0.0                   0.0              0.0   \n",
       "2022-04-03         0.0                   0.0              0.0   \n",
       "2022-04-04         0.0                   0.0              0.0   \n",
       "2022-04-05         0.0                   0.0              0.0   \n",
       "2022-04-06         0.0                   0.0              0.0   \n",
       "2022-04-07         0.0                   0.0              0.0   \n",
       "2022-04-08         0.0                   0.0              0.0   \n",
       "2022-04-09         0.0                   0.0              0.0   \n",
       "2022-04-10         0.0                   0.0              0.0   \n",
       "2022-04-11         0.0                   0.0              0.0   \n",
       "\n",
       "                                               name        lat       lon  \\\n",
       "time                                                                       \n",
       "2022-03-19  Martyrs de Châteaubriant - Jean Grandel  48.951432  2.211214   \n",
       "2022-03-20  Martyrs de Châteaubriant - Jean Grandel  48.951432  2.211214   \n",
       "2022-03-21  Martyrs de Châteaubriant - Jean Grandel  48.951432  2.211214   \n",
       "2022-03-22  Martyrs de Châteaubriant - Jean Grandel  48.951432  2.211214   \n",
       "2022-03-23  Martyrs de Châteaubriant - Jean Grandel  48.951432  2.211214   \n",
       "2022-03-24                                      NaN        NaN       NaN   \n",
       "2022-03-25  Martyrs de Châteaubriant - Jean Grandel  48.951432  2.211214   \n",
       "2022-03-26  Martyrs de Châteaubriant - Jean Grandel  48.951432  2.211214   \n",
       "2022-03-27  Martyrs de Châteaubriant - Jean Grandel  48.951432  2.211214   \n",
       "2022-03-28  Martyrs de Châteaubriant - Jean Grandel  48.951432  2.211214   \n",
       "2022-03-29  Martyrs de Châteaubriant - Jean Grandel  48.951432  2.211214   \n",
       "2022-03-30  Martyrs de Châteaubriant - Jean Grandel  48.951432  2.211214   \n",
       "2022-03-31  Martyrs de Châteaubriant - Jean Grandel  48.951432  2.211214   \n",
       "2022-04-01  Martyrs de Châteaubriant - Jean Grandel  48.951432  2.211214   \n",
       "2022-04-02  Martyrs de Châteaubriant - Jean Grandel  48.951432  2.211214   \n",
       "2022-04-03  Martyrs de Châteaubriant - Jean Grandel  48.951432  2.211214   \n",
       "2022-04-04  Martyrs de Châteaubriant - Jean Grandel  48.951432  2.211214   \n",
       "2022-04-05  Martyrs de Châteaubriant - Jean Grandel  48.951432  2.211214   \n",
       "2022-04-06  Martyrs de Châteaubriant - Jean Grandel  48.951432  2.211214   \n",
       "2022-04-07  Martyrs de Châteaubriant - Jean Grandel  48.951432  2.211214   \n",
       "2022-04-08  Martyrs de Châteaubriant - Jean Grandel  48.951432  2.211214   \n",
       "2022-04-09  Martyrs de Châteaubriant - Jean Grandel  48.951432  2.211214   \n",
       "2022-04-10  Martyrs de Châteaubriant - Jean Grandel  48.951432  2.211214   \n",
       "2022-04-11  Martyrs de Châteaubriant - Jean Grandel  48.951432  2.211214   \n",
       "\n",
       "            capacity  temp2m  probarain  weather  wind10m  \n",
       "time                                                       \n",
       "2022-03-19       0.0    15.0        0.0      0.0     26.0  \n",
       "2022-03-20       0.0    12.0        0.0      0.0     18.0  \n",
       "2022-03-21       0.0    17.0        0.0      0.0     11.0  \n",
       "2022-03-22       0.0    17.0        0.0      0.0     17.0  \n",
       "2022-03-23       0.0    17.0        0.0      0.0      9.0  \n",
       "2022-03-24       NaN     NaN        NaN      NaN      NaN  \n",
       "2022-03-25       0.0    13.0        0.0      0.0      9.0  \n",
       "2022-03-26       0.0    19.0        0.0      0.0     13.0  \n",
       "2022-03-27       0.0    21.0        0.0      0.0     10.0  \n",
       "2022-03-28      38.0    21.0        0.0      3.0     10.0  \n",
       "2022-03-29      38.0    18.0       90.0    211.0     13.0  \n",
       "2022-03-30      38.0    14.0       80.0     40.0     10.0  \n",
       "2022-03-31      38.0    11.0       60.0     40.0     25.0  \n",
       "2022-04-01      38.0     4.0      100.0    220.0     25.0  \n",
       "2022-04-02      38.0     8.0       60.0     73.0     24.0  \n",
       "2022-04-03      38.0     8.0       30.0     70.0     20.0  \n",
       "2022-04-04      38.0    10.0       50.0     10.0     21.0  \n",
       "2022-04-05      38.0    15.0       50.0     40.0     16.0  \n",
       "2022-04-06      38.0    14.0       50.0     10.0     22.0  \n",
       "2022-04-07      38.0    14.0      100.0    212.0     33.0  \n",
       "2022-04-08      38.0     9.0      100.0    211.0     19.0  \n",
       "2022-04-09      38.0    11.0       60.0    210.0     12.0  \n",
       "2022-04-10      38.0    14.0       10.0      2.0     11.0  \n",
       "2022-04-11      38.0    11.0        0.0      2.0     10.0  "
      ]
     },
     "execution_count": 527,
     "metadata": {},
     "output_type": "execute_result"
    }
   ],
   "source": [
    "velib[velib.station_id==15550433574].resample('D').max()"
   ]
  },
  {
   "cell_type": "markdown",
   "id": "8f6c3ad2",
   "metadata": {},
   "source": [
    "This station has a 38 places capacity, but we do not have any info on the bikes coming and going from it. It is in fact a new station in Bagneux. Let's drop all those stations."
   ]
  },
  {
   "cell_type": "code",
   "execution_count": 528,
   "id": "065b0c60",
   "metadata": {},
   "outputs": [
    {
     "data": {
      "text/plain": [
       "(2706204, 15)"
      ]
     },
     "execution_count": 528,
     "metadata": {},
     "output_type": "execute_result"
    }
   ],
   "source": [
    "velib = velib[~velib.station_id.isin(low_capa)]\n",
    "velib.shape"
   ]
  },
  {
   "cell_type": "markdown",
   "id": "a2243183",
   "metadata": {},
   "source": [
    "Let's be a bit curious here ! I want to know the ratio of bikes/docks."
   ]
  },
  {
   "cell_type": "code",
   "execution_count": 602,
   "id": "e3373de0",
   "metadata": {},
   "outputs": [],
   "source": [
    "date_stacked = velib.groupby('time').sum()\n",
    "date_stacked['bike_docks_ratio'] = date_stacked.apply(lambda df: \n",
    "                                   (df['ebike_available'] + df['mechanical_available']) / df['capacity'],axis=1)\n",
    "date_stacked['ebike_ratio'] = date_stacked.apply(lambda df:\n",
    "                              df['ebike_available'] / (df['mechanical_available'] + df['ebike_available']),axis=1)"
   ]
  },
  {
   "cell_type": "code",
   "execution_count": 628,
   "id": "24651e75",
   "metadata": {},
   "outputs": [
    {
     "name": "stdout",
     "output_type": "stream",
     "text": [
      "Bikes represent around 41.85% of the total docks\n",
      "It was at 05:32 that there were the least number of bicycles used.\n",
      "Ebikes represent around 41.02% of the total bikes\n"
     ]
    }
   ],
   "source": [
    "bike_docks_ratio = date_stacked.bike_docks_ratio.max()\n",
    "max_time = date_stacked.bike_docks_ratio.idxmax().strftime('%H:%M')\n",
    "ebike_on_bikes_ratio = date_stacked.ebike_ratio.max()\n",
    "\n",
    "print(f'Bikes represent around {bike_docks_ratio*100:.2f}% of the total docks')\n",
    "print(f'It was at {max_time} that there were the least number of bicycles used.')\n",
    "print(f'Ebikes represent around {ebike_on_bikes_ratio*100:.2f}% of the total bikes')"
   ]
  },
  {
   "cell_type": "markdown",
   "id": "89263a13",
   "metadata": {},
   "source": [
    "## Focus on our target station : Mairie du 9ème"
   ]
  },
  {
   "cell_type": "code",
   "execution_count": 529,
   "id": "17cc773d",
   "metadata": {},
   "outputs": [],
   "source": [
    "bool_cols = ['is_installed', 'is_returning','is_renting']\n",
    "for col in bool_cols:\n",
    "    velib[col] = velib[col].map({True:1,False:0})"
   ]
  },
  {
   "cell_type": "code",
   "execution_count": 564,
   "id": "8ecee6ec",
   "metadata": {},
   "outputs": [
    {
     "data": {
      "application/vnd.plotly.v1+json": {
       "config": {
        "plotlyServerURL": "https://plot.ly"
       },
       "data": [
        {
         "hovertemplate": "time=%{x}<br>docks_available=%{y}<extra></extra>",
         "legendgroup": "",
         "line": {
          "color": "#636efa",
          "dash": "solid"
         },
         "marker": {
          "symbol": "circle"
         },
         "mode": "lines",
         "name": "",
         "orientation": "v",
         "showlegend": false,
         "type": "scatter",
         "x": [
          "2022-03-19T17:00:00",
          "2022-03-19T18:00:00",
          "2022-03-19T19:00:00",
          "2022-03-19T20:00:00",
          "2022-03-19T21:00:00",
          "2022-03-19T22:00:00",
          "2022-03-19T23:00:00",
          "2022-03-20T00:00:00",
          "2022-03-20T01:00:00",
          "2022-03-20T02:00:00",
          "2022-03-20T03:00:00",
          "2022-03-20T04:00:00",
          "2022-03-20T05:00:00",
          "2022-03-20T06:00:00",
          "2022-03-20T07:00:00",
          "2022-03-20T08:00:00",
          "2022-03-20T09:00:00",
          "2022-03-20T10:00:00",
          "2022-03-20T11:00:00",
          "2022-03-20T12:00:00",
          "2022-03-20T13:00:00",
          "2022-03-20T14:00:00",
          "2022-03-20T15:00:00",
          "2022-03-20T16:00:00",
          "2022-03-20T17:00:00",
          "2022-03-20T18:00:00",
          "2022-03-20T19:00:00",
          "2022-03-20T20:00:00",
          "2022-03-20T21:00:00",
          "2022-03-20T22:00:00",
          "2022-03-20T23:00:00",
          "2022-03-21T00:00:00",
          "2022-03-21T01:00:00",
          "2022-03-21T02:00:00",
          "2022-03-21T03:00:00",
          "2022-03-21T04:00:00",
          "2022-03-21T05:00:00",
          "2022-03-21T06:00:00",
          "2022-03-21T07:00:00",
          "2022-03-21T08:00:00",
          "2022-03-21T09:00:00",
          "2022-03-21T10:00:00",
          "2022-03-21T11:00:00",
          "2022-03-21T12:00:00",
          "2022-03-21T13:00:00",
          "2022-03-21T14:00:00",
          "2022-03-21T15:00:00",
          "2022-03-21T16:00:00",
          "2022-03-21T17:00:00",
          "2022-03-21T18:00:00",
          "2022-03-21T19:00:00",
          "2022-03-21T20:00:00",
          "2022-03-21T21:00:00",
          "2022-03-21T22:00:00",
          "2022-03-21T23:00:00",
          "2022-03-22T00:00:00",
          "2022-03-22T01:00:00",
          "2022-03-22T02:00:00",
          "2022-03-22T03:00:00",
          "2022-03-22T04:00:00",
          "2022-03-22T05:00:00",
          "2022-03-22T06:00:00",
          "2022-03-22T07:00:00",
          "2022-03-22T08:00:00",
          "2022-03-22T09:00:00",
          "2022-03-22T10:00:00",
          "2022-03-22T11:00:00",
          "2022-03-22T12:00:00",
          "2022-03-22T13:00:00",
          "2022-03-22T14:00:00",
          "2022-03-22T15:00:00",
          "2022-03-22T16:00:00",
          "2022-03-22T17:00:00",
          "2022-03-22T18:00:00",
          "2022-03-22T19:00:00",
          "2022-03-22T20:00:00",
          "2022-03-22T21:00:00",
          "2022-03-22T22:00:00",
          "2022-03-22T23:00:00",
          "2022-03-23T00:00:00",
          "2022-03-23T01:00:00",
          "2022-03-23T02:00:00",
          "2022-03-23T03:00:00",
          "2022-03-23T04:00:00",
          "2022-03-23T05:00:00",
          "2022-03-23T06:00:00",
          "2022-03-23T07:00:00",
          "2022-03-23T08:00:00",
          "2022-03-23T09:00:00",
          "2022-03-23T10:00:00",
          "2022-03-23T11:00:00",
          "2022-03-23T12:00:00",
          "2022-03-23T13:00:00",
          "2022-03-23T14:00:00",
          "2022-03-25T23:00:00",
          "2022-03-26T00:00:00",
          "2022-03-26T01:00:00",
          "2022-03-26T02:00:00",
          "2022-03-26T03:00:00",
          "2022-03-26T04:00:00",
          "2022-03-26T05:00:00",
          "2022-03-26T06:00:00",
          "2022-03-26T07:00:00",
          "2022-03-26T08:00:00",
          "2022-03-26T09:00:00",
          "2022-03-26T10:00:00",
          "2022-03-26T11:00:00",
          "2022-03-26T12:00:00",
          "2022-03-26T13:00:00",
          "2022-03-26T14:00:00",
          "2022-03-26T15:00:00",
          "2022-03-26T16:00:00",
          "2022-03-26T17:00:00",
          "2022-03-26T18:00:00",
          "2022-03-26T19:00:00",
          "2022-03-26T20:00:00",
          "2022-03-26T21:00:00",
          "2022-03-26T22:00:00",
          "2022-03-26T23:00:00",
          "2022-03-27T00:00:00",
          "2022-03-27T01:00:00",
          "2022-03-27T03:00:00",
          "2022-03-27T04:00:00",
          "2022-03-27T05:00:00",
          "2022-03-27T06:00:00",
          "2022-03-27T07:00:00",
          "2022-03-27T08:00:00",
          "2022-03-27T09:00:00",
          "2022-03-27T10:00:00",
          "2022-03-27T11:00:00",
          "2022-03-27T12:00:00",
          "2022-03-27T13:00:00",
          "2022-03-27T14:00:00",
          "2022-03-27T15:00:00",
          "2022-03-27T16:00:00",
          "2022-03-27T17:00:00",
          "2022-03-27T18:00:00",
          "2022-03-27T19:00:00",
          "2022-03-27T20:00:00",
          "2022-03-27T21:00:00",
          "2022-03-28T00:00:00",
          "2022-03-28T01:00:00",
          "2022-03-28T02:00:00",
          "2022-03-28T03:00:00",
          "2022-03-28T04:00:00",
          "2022-03-28T05:00:00",
          "2022-03-28T06:00:00",
          "2022-03-28T07:00:00",
          "2022-03-28T08:00:00",
          "2022-03-28T09:00:00",
          "2022-03-28T10:00:00",
          "2022-03-28T11:00:00",
          "2022-03-28T12:00:00",
          "2022-03-28T13:00:00",
          "2022-03-28T14:00:00",
          "2022-03-28T15:00:00",
          "2022-03-28T16:00:00",
          "2022-03-28T17:00:00",
          "2022-03-28T18:00:00",
          "2022-03-28T19:00:00",
          "2022-03-28T20:00:00",
          "2022-03-28T21:00:00",
          "2022-03-28T22:00:00",
          "2022-03-28T23:00:00",
          "2022-03-29T00:00:00",
          "2022-03-29T06:00:00",
          "2022-03-29T07:00:00",
          "2022-03-29T08:00:00",
          "2022-03-29T09:00:00",
          "2022-03-29T10:00:00",
          "2022-03-29T11:00:00",
          "2022-03-29T12:00:00",
          "2022-03-29T13:00:00",
          "2022-03-29T14:00:00",
          "2022-03-29T15:00:00",
          "2022-03-29T16:00:00",
          "2022-03-29T17:00:00",
          "2022-03-29T18:00:00",
          "2022-03-29T19:00:00",
          "2022-03-29T20:00:00",
          "2022-03-29T21:00:00",
          "2022-03-29T22:00:00",
          "2022-03-29T23:00:00",
          "2022-03-30T00:00:00",
          "2022-03-30T01:00:00",
          "2022-03-30T02:00:00",
          "2022-03-30T03:00:00",
          "2022-03-30T04:00:00",
          "2022-03-30T05:00:00",
          "2022-03-30T06:00:00",
          "2022-03-30T07:00:00",
          "2022-03-30T08:00:00",
          "2022-03-30T09:00:00",
          "2022-03-30T10:00:00",
          "2022-03-30T11:00:00",
          "2022-03-30T12:00:00",
          "2022-03-30T13:00:00",
          "2022-03-30T14:00:00",
          "2022-03-30T15:00:00",
          "2022-03-30T16:00:00",
          "2022-03-30T17:00:00",
          "2022-03-30T18:00:00",
          "2022-03-30T19:00:00",
          "2022-03-30T20:00:00",
          "2022-03-30T21:00:00",
          "2022-03-30T22:00:00",
          "2022-03-30T23:00:00",
          "2022-03-31T00:00:00",
          "2022-03-31T01:00:00",
          "2022-03-31T02:00:00",
          "2022-03-31T03:00:00",
          "2022-03-31T04:00:00",
          "2022-03-31T05:00:00",
          "2022-03-31T06:00:00",
          "2022-03-31T07:00:00",
          "2022-03-31T08:00:00",
          "2022-03-31T09:00:00",
          "2022-03-31T10:00:00",
          "2022-03-31T11:00:00",
          "2022-03-31T12:00:00",
          "2022-03-31T13:00:00",
          "2022-03-31T14:00:00",
          "2022-03-31T15:00:00",
          "2022-03-31T16:00:00",
          "2022-03-31T17:00:00",
          "2022-03-31T18:00:00",
          "2022-03-31T19:00:00",
          "2022-03-31T20:00:00",
          "2022-03-31T21:00:00",
          "2022-03-31T22:00:00",
          "2022-03-31T23:00:00",
          "2022-04-01T00:00:00",
          "2022-04-01T01:00:00",
          "2022-04-01T02:00:00",
          "2022-04-01T03:00:00",
          "2022-04-01T04:00:00",
          "2022-04-01T05:00:00",
          "2022-04-01T06:00:00",
          "2022-04-01T07:00:00",
          "2022-04-01T08:00:00",
          "2022-04-01T09:00:00",
          "2022-04-01T10:00:00",
          "2022-04-01T11:00:00",
          "2022-04-01T12:00:00",
          "2022-04-01T13:00:00",
          "2022-04-01T14:00:00",
          "2022-04-01T15:00:00",
          "2022-04-01T16:00:00",
          "2022-04-01T17:00:00",
          "2022-04-01T18:00:00",
          "2022-04-01T19:00:00",
          "2022-04-01T20:00:00",
          "2022-04-01T21:00:00",
          "2022-04-01T22:00:00",
          "2022-04-01T23:00:00",
          "2022-04-02T00:00:00",
          "2022-04-02T01:00:00",
          "2022-04-02T02:00:00",
          "2022-04-02T03:00:00",
          "2022-04-02T04:00:00",
          "2022-04-02T05:00:00",
          "2022-04-02T06:00:00",
          "2022-04-02T07:00:00",
          "2022-04-02T08:00:00",
          "2022-04-02T09:00:00",
          "2022-04-02T10:00:00",
          "2022-04-02T11:00:00",
          "2022-04-02T12:00:00",
          "2022-04-02T13:00:00",
          "2022-04-02T14:00:00",
          "2022-04-02T15:00:00",
          "2022-04-02T16:00:00",
          "2022-04-02T17:00:00",
          "2022-04-02T18:00:00",
          "2022-04-02T19:00:00",
          "2022-04-02T20:00:00",
          "2022-04-02T21:00:00",
          "2022-04-02T22:00:00",
          "2022-04-02T23:00:00",
          "2022-04-03T00:00:00",
          "2022-04-03T01:00:00",
          "2022-04-03T02:00:00",
          "2022-04-03T03:00:00",
          "2022-04-03T04:00:00",
          "2022-04-03T05:00:00",
          "2022-04-03T06:00:00",
          "2022-04-03T07:00:00",
          "2022-04-03T08:00:00",
          "2022-04-03T09:00:00",
          "2022-04-03T10:00:00",
          "2022-04-03T11:00:00",
          "2022-04-03T12:00:00",
          "2022-04-03T13:00:00",
          "2022-04-03T14:00:00",
          "2022-04-03T15:00:00",
          "2022-04-03T16:00:00",
          "2022-04-03T17:00:00",
          "2022-04-03T18:00:00",
          "2022-04-03T19:00:00",
          "2022-04-03T20:00:00",
          "2022-04-03T21:00:00",
          "2022-04-03T22:00:00",
          "2022-04-03T23:00:00",
          "2022-04-04T00:00:00",
          "2022-04-04T01:00:00",
          "2022-04-04T02:00:00",
          "2022-04-04T03:00:00",
          "2022-04-04T04:00:00",
          "2022-04-04T05:00:00",
          "2022-04-04T06:00:00",
          "2022-04-04T07:00:00",
          "2022-04-04T08:00:00",
          "2022-04-04T09:00:00",
          "2022-04-04T10:00:00",
          "2022-04-04T11:00:00",
          "2022-04-04T12:00:00",
          "2022-04-04T13:00:00",
          "2022-04-04T14:00:00",
          "2022-04-04T15:00:00",
          "2022-04-04T16:00:00",
          "2022-04-04T17:00:00",
          "2022-04-04T18:00:00",
          "2022-04-04T19:00:00",
          "2022-04-04T20:00:00",
          "2022-04-04T21:00:00",
          "2022-04-04T22:00:00",
          "2022-04-04T23:00:00",
          "2022-04-05T00:00:00",
          "2022-04-05T01:00:00",
          "2022-04-05T02:00:00",
          "2022-04-05T03:00:00",
          "2022-04-05T04:00:00",
          "2022-04-05T05:00:00",
          "2022-04-05T06:00:00",
          "2022-04-05T07:00:00",
          "2022-04-05T08:00:00",
          "2022-04-05T09:00:00",
          "2022-04-05T10:00:00",
          "2022-04-05T11:00:00",
          "2022-04-05T12:00:00",
          "2022-04-05T13:00:00",
          "2022-04-05T14:00:00",
          "2022-04-05T15:00:00",
          "2022-04-05T16:00:00",
          "2022-04-05T17:00:00",
          "2022-04-05T18:00:00",
          "2022-04-05T19:00:00",
          "2022-04-05T20:00:00",
          "2022-04-05T21:00:00",
          "2022-04-05T22:00:00",
          "2022-04-05T23:00:00",
          "2022-04-06T00:00:00",
          "2022-04-06T01:00:00",
          "2022-04-06T02:00:00",
          "2022-04-06T03:00:00",
          "2022-04-06T04:00:00",
          "2022-04-06T05:00:00",
          "2022-04-06T06:00:00",
          "2022-04-06T07:00:00",
          "2022-04-06T08:00:00",
          "2022-04-06T09:00:00",
          "2022-04-06T10:00:00",
          "2022-04-06T11:00:00",
          "2022-04-06T12:00:00",
          "2022-04-06T13:00:00",
          "2022-04-06T14:00:00",
          "2022-04-06T15:00:00",
          "2022-04-06T16:00:00",
          "2022-04-06T17:00:00",
          "2022-04-06T18:00:00",
          "2022-04-06T19:00:00",
          "2022-04-06T20:00:00",
          "2022-04-06T21:00:00",
          "2022-04-06T22:00:00",
          "2022-04-06T23:00:00",
          "2022-04-07T00:00:00",
          "2022-04-07T01:00:00",
          "2022-04-07T02:00:00",
          "2022-04-07T03:00:00",
          "2022-04-07T04:00:00",
          "2022-04-07T05:00:00",
          "2022-04-07T06:00:00",
          "2022-04-07T07:00:00",
          "2022-04-07T08:00:00",
          "2022-04-07T09:00:00",
          "2022-04-07T10:00:00",
          "2022-04-07T11:00:00",
          "2022-04-07T12:00:00",
          "2022-04-07T13:00:00",
          "2022-04-07T14:00:00",
          "2022-04-07T15:00:00",
          "2022-04-07T16:00:00",
          "2022-04-07T17:00:00",
          "2022-04-07T18:00:00",
          "2022-04-07T19:00:00",
          "2022-04-07T20:00:00",
          "2022-04-07T21:00:00",
          "2022-04-07T22:00:00",
          "2022-04-07T23:00:00",
          "2022-04-08T00:00:00",
          "2022-04-08T01:00:00",
          "2022-04-08T02:00:00",
          "2022-04-08T03:00:00",
          "2022-04-08T04:00:00",
          "2022-04-08T05:00:00",
          "2022-04-08T06:00:00",
          "2022-04-08T07:00:00",
          "2022-04-08T08:00:00",
          "2022-04-08T09:00:00",
          "2022-04-08T10:00:00",
          "2022-04-08T11:00:00",
          "2022-04-08T12:00:00",
          "2022-04-08T13:00:00",
          "2022-04-08T14:00:00",
          "2022-04-08T15:00:00",
          "2022-04-08T16:00:00",
          "2022-04-08T17:00:00",
          "2022-04-08T18:00:00",
          "2022-04-08T19:00:00",
          "2022-04-08T20:00:00",
          "2022-04-08T21:00:00",
          "2022-04-08T22:00:00",
          "2022-04-08T23:00:00",
          "2022-04-09T00:00:00",
          "2022-04-09T01:00:00",
          "2022-04-09T02:00:00",
          "2022-04-09T03:00:00",
          "2022-04-09T04:00:00",
          "2022-04-09T05:00:00",
          "2022-04-09T06:00:00",
          "2022-04-09T07:00:00",
          "2022-04-09T08:00:00",
          "2022-04-09T09:00:00",
          "2022-04-09T10:00:00",
          "2022-04-09T11:00:00",
          "2022-04-09T12:00:00",
          "2022-04-09T13:00:00",
          "2022-04-09T14:00:00",
          "2022-04-09T15:00:00",
          "2022-04-09T16:00:00",
          "2022-04-09T17:00:00",
          "2022-04-09T18:00:00",
          "2022-04-09T19:00:00",
          "2022-04-09T20:00:00",
          "2022-04-09T21:00:00",
          "2022-04-09T22:00:00",
          "2022-04-09T23:00:00",
          "2022-04-10T00:00:00",
          "2022-04-10T01:00:00",
          "2022-04-10T02:00:00",
          "2022-04-10T03:00:00",
          "2022-04-10T04:00:00",
          "2022-04-10T05:00:00",
          "2022-04-10T06:00:00",
          "2022-04-10T07:00:00",
          "2022-04-10T08:00:00",
          "2022-04-10T09:00:00",
          "2022-04-10T10:00:00",
          "2022-04-10T11:00:00",
          "2022-04-10T12:00:00",
          "2022-04-10T13:00:00",
          "2022-04-10T14:00:00",
          "2022-04-10T15:00:00",
          "2022-04-10T16:00:00",
          "2022-04-10T17:00:00",
          "2022-04-10T18:00:00",
          "2022-04-10T19:00:00",
          "2022-04-10T20:00:00",
          "2022-04-10T21:00:00",
          "2022-04-10T22:00:00",
          "2022-04-10T23:00:00",
          "2022-04-11T00:00:00",
          "2022-04-11T01:00:00",
          "2022-04-11T02:00:00",
          "2022-04-11T03:00:00",
          "2022-04-11T04:00:00",
          "2022-04-11T05:00:00",
          "2022-04-11T06:00:00",
          "2022-04-11T07:00:00",
          "2022-04-11T08:00:00",
          "2022-04-11T09:00:00",
          "2022-04-11T10:00:00",
          "2022-04-11T11:00:00"
         ],
         "xaxis": "x",
         "y": [
          10.666666666666666,
          16.5,
          19.25,
          20.75,
          16.25,
          17.25,
          18.75,
          18.5,
          17.666666666666668,
          20,
          19.75,
          20,
          22,
          22,
          22,
          22,
          22.5,
          22.5,
          22.75,
          22,
          21.75,
          22.25,
          21.25,
          20.25,
          21.5,
          19,
          16.75,
          15.5,
          13,
          12.5,
          13.5,
          14.25,
          13.5,
          13,
          13,
          13,
          13,
          13.25,
          14,
          12.75,
          13,
          3,
          9.25,
          8,
          6,
          6,
          0.75,
          0,
          4,
          8,
          16.75,
          18.75,
          16.75,
          22.5,
          23.5,
          23,
          23,
          23.5,
          24,
          23.5,
          23,
          23,
          23,
          22.5,
          11.5,
          3.75,
          0.75,
          0.75,
          1,
          0.3333333333333333,
          2,
          1.75,
          0.75,
          5.75,
          7.75,
          8.5,
          8.5,
          10.666666666666666,
          12.75,
          18.25,
          19.25,
          20.5,
          21,
          21,
          21,
          20.75,
          21,
          19.5,
          12.5,
          5.5,
          1.5,
          5.25,
          2.25,
          0.5,
          13.666666666666666,
          15.5,
          17.75,
          18.666666666666668,
          20,
          20.75,
          21,
          21,
          20.75,
          20.5,
          20.5,
          19.75,
          16,
          15.75,
          21.75,
          17.75,
          20,
          21,
          21.25,
          19.5,
          19.5,
          13,
          4.5,
          2,
          6,
          6.5,
          8.25,
          12.5,
          17.25,
          19,
          20.75,
          19.333333333333332,
          17.5,
          14.25,
          16,
          21.25,
          21.75,
          21.5,
          21.5,
          21,
          20,
          23,
          19,
          18,
          14.25,
          10.25,
          11,
          12,
          11,
          11,
          11,
          11,
          11,
          11.75,
          10,
          7.5,
          1,
          4,
          12.5,
          8.5,
          2,
          1.5,
          2.75,
          2.75,
          9.25,
          11.666666666666666,
          20.25,
          20.25,
          22,
          21.25,
          21,
          21.666666666666668,
          21,
          18,
          13.25,
          10.25,
          9,
          6.25,
          3.25,
          1.25,
          1.5,
          4.25,
          8.5,
          11.75,
          13.25,
          14,
          12.25,
          15.333333333333334,
          17.5,
          18.75,
          19,
          19,
          21,
          22,
          22,
          22,
          20,
          18.75,
          11.5,
          4.25,
          2.25,
          0.5,
          1,
          2.25,
          1,
          2,
          1.75,
          3.5,
          8.25,
          10.25,
          13.75,
          14.5,
          14.75,
          17.5,
          18,
          18.5,
          20,
          21,
          21.25,
          22,
          21.25,
          20.5,
          15,
          2.75,
          1.25,
          2.5,
          6,
          7,
          6.75,
          6.25,
          11.5,
          16.25,
          18.5,
          20.5,
          21.5,
          20.5,
          20.75,
          21.75,
          22.25,
          22.25,
          22,
          21.666666666666668,
          21,
          21,
          20.75,
          18.25,
          14.25,
          16,
          19,
          18,
          15.25,
          15.75,
          14.75,
          16.25,
          18,
          20.25,
          20.75,
          21,
          19,
          20.75,
          21.75,
          19.75,
          19.25,
          19,
          19,
          19.75,
          22,
          21.25,
          21.5,
          21.75,
          22,
          22.333333333333332,
          18.75,
          20.5,
          18.25,
          17.75,
          20,
          17.5,
          17.25,
          21.75,
          20.75,
          18.5,
          14.25,
          15.75,
          15.25,
          18.5,
          20.5,
          20.5,
          22,
          22,
          21.75,
          20,
          20,
          20,
          20,
          20,
          21.75,
          20.5,
          20,
          21.25,
          22,
          23.5,
          22.75,
          20.25,
          21.75,
          21,
          19,
          18.25,
          16.25,
          18,
          18,
          18.5,
          18.75,
          18,
          18,
          18.25,
          18.75,
          16.5,
          13.25,
          8.5,
          10,
          9.25,
          9.666666666666666,
          9.75,
          8.25,
          6.333333333333333,
          8.25,
          17.25,
          20.75,
          21.5,
          22.5,
          22.25,
          22.5,
          21.75,
          23,
          23,
          22.75,
          22,
          22,
          22,
          21,
          18.75,
          11.75,
          3.5,
          1.5,
          7,
          7.5,
          9,
          5.25,
          3.6666666666666665,
          10.75,
          19.25,
          22.75,
          23,
          22.75,
          22.75,
          21.25,
          22.75,
          23,
          23,
          22.75,
          22,
          22,
          21,
          20.5,
          22.5,
          9.75,
          0,
          1.25,
          2.5,
          3,
          1.75,
          3.75,
          6,
          9.5,
          13.5,
          16,
          17,
          18,
          17,
          19.75,
          20,
          20,
          20,
          20,
          19,
          20,
          20,
          19.5,
          17,
          9,
          1.25,
          0,
          4.75,
          1.75,
          2.5,
          8,
          7.75,
          10.75,
          15.5,
          15.5,
          18.25,
          18,
          16.75,
          19.25,
          19,
          19,
          17,
          19,
          18.75,
          19,
          19,
          19,
          17,
          14.5,
          13.25,
          14.75,
          12.25,
          13.25,
          12.5,
          14,
          12.25,
          14.25,
          16.75,
          16.5,
          13.5,
          14,
          14.5,
          13.75,
          14,
          15.25,
          15,
          14.75,
          15.75,
          16,
          17,
          17,
          17.5,
          17,
          17.75,
          17.5,
          17.5,
          16.5,
          14.75,
          16.25,
          16,
          17.25,
          16,
          15.25,
          15,
          12.25,
          8.5,
          7.5,
          10.75,
          14.25,
          16.25,
          17.5,
          18,
          18,
          18,
          17.75,
          17.25,
          17.75,
          17.75,
          16.75,
          16.75,
          14.5,
          14.75,
          14.5,
          15.75,
          14.5,
          12.5,
          11.25,
          13.25,
          12.25,
          11,
          12.75,
          13,
          13.25,
          13.75,
          15,
          15,
          15,
          15,
          15,
          13,
          7.25,
          2,
          0.75
         ],
         "yaxis": "y"
        }
       ],
       "layout": {
        "legend": {
         "tracegroupgap": 0
        },
        "template": {
         "data": {
          "bar": [
           {
            "error_x": {
             "color": "#2a3f5f"
            },
            "error_y": {
             "color": "#2a3f5f"
            },
            "marker": {
             "line": {
              "color": "#E5ECF6",
              "width": 0.5
             },
             "pattern": {
              "fillmode": "overlay",
              "size": 10,
              "solidity": 0.2
             }
            },
            "type": "bar"
           }
          ],
          "barpolar": [
           {
            "marker": {
             "line": {
              "color": "#E5ECF6",
              "width": 0.5
             },
             "pattern": {
              "fillmode": "overlay",
              "size": 10,
              "solidity": 0.2
             }
            },
            "type": "barpolar"
           }
          ],
          "carpet": [
           {
            "aaxis": {
             "endlinecolor": "#2a3f5f",
             "gridcolor": "white",
             "linecolor": "white",
             "minorgridcolor": "white",
             "startlinecolor": "#2a3f5f"
            },
            "baxis": {
             "endlinecolor": "#2a3f5f",
             "gridcolor": "white",
             "linecolor": "white",
             "minorgridcolor": "white",
             "startlinecolor": "#2a3f5f"
            },
            "type": "carpet"
           }
          ],
          "choropleth": [
           {
            "colorbar": {
             "outlinewidth": 0,
             "ticks": ""
            },
            "type": "choropleth"
           }
          ],
          "contour": [
           {
            "colorbar": {
             "outlinewidth": 0,
             "ticks": ""
            },
            "colorscale": [
             [
              0,
              "#0d0887"
             ],
             [
              0.1111111111111111,
              "#46039f"
             ],
             [
              0.2222222222222222,
              "#7201a8"
             ],
             [
              0.3333333333333333,
              "#9c179e"
             ],
             [
              0.4444444444444444,
              "#bd3786"
             ],
             [
              0.5555555555555556,
              "#d8576b"
             ],
             [
              0.6666666666666666,
              "#ed7953"
             ],
             [
              0.7777777777777778,
              "#fb9f3a"
             ],
             [
              0.8888888888888888,
              "#fdca26"
             ],
             [
              1,
              "#f0f921"
             ]
            ],
            "type": "contour"
           }
          ],
          "contourcarpet": [
           {
            "colorbar": {
             "outlinewidth": 0,
             "ticks": ""
            },
            "type": "contourcarpet"
           }
          ],
          "heatmap": [
           {
            "colorbar": {
             "outlinewidth": 0,
             "ticks": ""
            },
            "colorscale": [
             [
              0,
              "#0d0887"
             ],
             [
              0.1111111111111111,
              "#46039f"
             ],
             [
              0.2222222222222222,
              "#7201a8"
             ],
             [
              0.3333333333333333,
              "#9c179e"
             ],
             [
              0.4444444444444444,
              "#bd3786"
             ],
             [
              0.5555555555555556,
              "#d8576b"
             ],
             [
              0.6666666666666666,
              "#ed7953"
             ],
             [
              0.7777777777777778,
              "#fb9f3a"
             ],
             [
              0.8888888888888888,
              "#fdca26"
             ],
             [
              1,
              "#f0f921"
             ]
            ],
            "type": "heatmap"
           }
          ],
          "heatmapgl": [
           {
            "colorbar": {
             "outlinewidth": 0,
             "ticks": ""
            },
            "colorscale": [
             [
              0,
              "#0d0887"
             ],
             [
              0.1111111111111111,
              "#46039f"
             ],
             [
              0.2222222222222222,
              "#7201a8"
             ],
             [
              0.3333333333333333,
              "#9c179e"
             ],
             [
              0.4444444444444444,
              "#bd3786"
             ],
             [
              0.5555555555555556,
              "#d8576b"
             ],
             [
              0.6666666666666666,
              "#ed7953"
             ],
             [
              0.7777777777777778,
              "#fb9f3a"
             ],
             [
              0.8888888888888888,
              "#fdca26"
             ],
             [
              1,
              "#f0f921"
             ]
            ],
            "type": "heatmapgl"
           }
          ],
          "histogram": [
           {
            "marker": {
             "pattern": {
              "fillmode": "overlay",
              "size": 10,
              "solidity": 0.2
             }
            },
            "type": "histogram"
           }
          ],
          "histogram2d": [
           {
            "colorbar": {
             "outlinewidth": 0,
             "ticks": ""
            },
            "colorscale": [
             [
              0,
              "#0d0887"
             ],
             [
              0.1111111111111111,
              "#46039f"
             ],
             [
              0.2222222222222222,
              "#7201a8"
             ],
             [
              0.3333333333333333,
              "#9c179e"
             ],
             [
              0.4444444444444444,
              "#bd3786"
             ],
             [
              0.5555555555555556,
              "#d8576b"
             ],
             [
              0.6666666666666666,
              "#ed7953"
             ],
             [
              0.7777777777777778,
              "#fb9f3a"
             ],
             [
              0.8888888888888888,
              "#fdca26"
             ],
             [
              1,
              "#f0f921"
             ]
            ],
            "type": "histogram2d"
           }
          ],
          "histogram2dcontour": [
           {
            "colorbar": {
             "outlinewidth": 0,
             "ticks": ""
            },
            "colorscale": [
             [
              0,
              "#0d0887"
             ],
             [
              0.1111111111111111,
              "#46039f"
             ],
             [
              0.2222222222222222,
              "#7201a8"
             ],
             [
              0.3333333333333333,
              "#9c179e"
             ],
             [
              0.4444444444444444,
              "#bd3786"
             ],
             [
              0.5555555555555556,
              "#d8576b"
             ],
             [
              0.6666666666666666,
              "#ed7953"
             ],
             [
              0.7777777777777778,
              "#fb9f3a"
             ],
             [
              0.8888888888888888,
              "#fdca26"
             ],
             [
              1,
              "#f0f921"
             ]
            ],
            "type": "histogram2dcontour"
           }
          ],
          "mesh3d": [
           {
            "colorbar": {
             "outlinewidth": 0,
             "ticks": ""
            },
            "type": "mesh3d"
           }
          ],
          "parcoords": [
           {
            "line": {
             "colorbar": {
              "outlinewidth": 0,
              "ticks": ""
             }
            },
            "type": "parcoords"
           }
          ],
          "pie": [
           {
            "automargin": true,
            "type": "pie"
           }
          ],
          "scatter": [
           {
            "marker": {
             "colorbar": {
              "outlinewidth": 0,
              "ticks": ""
             }
            },
            "type": "scatter"
           }
          ],
          "scatter3d": [
           {
            "line": {
             "colorbar": {
              "outlinewidth": 0,
              "ticks": ""
             }
            },
            "marker": {
             "colorbar": {
              "outlinewidth": 0,
              "ticks": ""
             }
            },
            "type": "scatter3d"
           }
          ],
          "scattercarpet": [
           {
            "marker": {
             "colorbar": {
              "outlinewidth": 0,
              "ticks": ""
             }
            },
            "type": "scattercarpet"
           }
          ],
          "scattergeo": [
           {
            "marker": {
             "colorbar": {
              "outlinewidth": 0,
              "ticks": ""
             }
            },
            "type": "scattergeo"
           }
          ],
          "scattergl": [
           {
            "marker": {
             "colorbar": {
              "outlinewidth": 0,
              "ticks": ""
             }
            },
            "type": "scattergl"
           }
          ],
          "scattermapbox": [
           {
            "marker": {
             "colorbar": {
              "outlinewidth": 0,
              "ticks": ""
             }
            },
            "type": "scattermapbox"
           }
          ],
          "scatterpolar": [
           {
            "marker": {
             "colorbar": {
              "outlinewidth": 0,
              "ticks": ""
             }
            },
            "type": "scatterpolar"
           }
          ],
          "scatterpolargl": [
           {
            "marker": {
             "colorbar": {
              "outlinewidth": 0,
              "ticks": ""
             }
            },
            "type": "scatterpolargl"
           }
          ],
          "scatterternary": [
           {
            "marker": {
             "colorbar": {
              "outlinewidth": 0,
              "ticks": ""
             }
            },
            "type": "scatterternary"
           }
          ],
          "surface": [
           {
            "colorbar": {
             "outlinewidth": 0,
             "ticks": ""
            },
            "colorscale": [
             [
              0,
              "#0d0887"
             ],
             [
              0.1111111111111111,
              "#46039f"
             ],
             [
              0.2222222222222222,
              "#7201a8"
             ],
             [
              0.3333333333333333,
              "#9c179e"
             ],
             [
              0.4444444444444444,
              "#bd3786"
             ],
             [
              0.5555555555555556,
              "#d8576b"
             ],
             [
              0.6666666666666666,
              "#ed7953"
             ],
             [
              0.7777777777777778,
              "#fb9f3a"
             ],
             [
              0.8888888888888888,
              "#fdca26"
             ],
             [
              1,
              "#f0f921"
             ]
            ],
            "type": "surface"
           }
          ],
          "table": [
           {
            "cells": {
             "fill": {
              "color": "#EBF0F8"
             },
             "line": {
              "color": "white"
             }
            },
            "header": {
             "fill": {
              "color": "#C8D4E3"
             },
             "line": {
              "color": "white"
             }
            },
            "type": "table"
           }
          ]
         },
         "layout": {
          "annotationdefaults": {
           "arrowcolor": "#2a3f5f",
           "arrowhead": 0,
           "arrowwidth": 1
          },
          "autotypenumbers": "strict",
          "coloraxis": {
           "colorbar": {
            "outlinewidth": 0,
            "ticks": ""
           }
          },
          "colorscale": {
           "diverging": [
            [
             0,
             "#8e0152"
            ],
            [
             0.1,
             "#c51b7d"
            ],
            [
             0.2,
             "#de77ae"
            ],
            [
             0.3,
             "#f1b6da"
            ],
            [
             0.4,
             "#fde0ef"
            ],
            [
             0.5,
             "#f7f7f7"
            ],
            [
             0.6,
             "#e6f5d0"
            ],
            [
             0.7,
             "#b8e186"
            ],
            [
             0.8,
             "#7fbc41"
            ],
            [
             0.9,
             "#4d9221"
            ],
            [
             1,
             "#276419"
            ]
           ],
           "sequential": [
            [
             0,
             "#0d0887"
            ],
            [
             0.1111111111111111,
             "#46039f"
            ],
            [
             0.2222222222222222,
             "#7201a8"
            ],
            [
             0.3333333333333333,
             "#9c179e"
            ],
            [
             0.4444444444444444,
             "#bd3786"
            ],
            [
             0.5555555555555556,
             "#d8576b"
            ],
            [
             0.6666666666666666,
             "#ed7953"
            ],
            [
             0.7777777777777778,
             "#fb9f3a"
            ],
            [
             0.8888888888888888,
             "#fdca26"
            ],
            [
             1,
             "#f0f921"
            ]
           ],
           "sequentialminus": [
            [
             0,
             "#0d0887"
            ],
            [
             0.1111111111111111,
             "#46039f"
            ],
            [
             0.2222222222222222,
             "#7201a8"
            ],
            [
             0.3333333333333333,
             "#9c179e"
            ],
            [
             0.4444444444444444,
             "#bd3786"
            ],
            [
             0.5555555555555556,
             "#d8576b"
            ],
            [
             0.6666666666666666,
             "#ed7953"
            ],
            [
             0.7777777777777778,
             "#fb9f3a"
            ],
            [
             0.8888888888888888,
             "#fdca26"
            ],
            [
             1,
             "#f0f921"
            ]
           ]
          },
          "colorway": [
           "#636efa",
           "#EF553B",
           "#00cc96",
           "#ab63fa",
           "#FFA15A",
           "#19d3f3",
           "#FF6692",
           "#B6E880",
           "#FF97FF",
           "#FECB52"
          ],
          "font": {
           "color": "#2a3f5f"
          },
          "geo": {
           "bgcolor": "white",
           "lakecolor": "white",
           "landcolor": "#E5ECF6",
           "showlakes": true,
           "showland": true,
           "subunitcolor": "white"
          },
          "hoverlabel": {
           "align": "left"
          },
          "hovermode": "closest",
          "mapbox": {
           "style": "light"
          },
          "paper_bgcolor": "white",
          "plot_bgcolor": "#E5ECF6",
          "polar": {
           "angularaxis": {
            "gridcolor": "white",
            "linecolor": "white",
            "ticks": ""
           },
           "bgcolor": "#E5ECF6",
           "radialaxis": {
            "gridcolor": "white",
            "linecolor": "white",
            "ticks": ""
           }
          },
          "scene": {
           "xaxis": {
            "backgroundcolor": "#E5ECF6",
            "gridcolor": "white",
            "gridwidth": 2,
            "linecolor": "white",
            "showbackground": true,
            "ticks": "",
            "zerolinecolor": "white"
           },
           "yaxis": {
            "backgroundcolor": "#E5ECF6",
            "gridcolor": "white",
            "gridwidth": 2,
            "linecolor": "white",
            "showbackground": true,
            "ticks": "",
            "zerolinecolor": "white"
           },
           "zaxis": {
            "backgroundcolor": "#E5ECF6",
            "gridcolor": "white",
            "gridwidth": 2,
            "linecolor": "white",
            "showbackground": true,
            "ticks": "",
            "zerolinecolor": "white"
           }
          },
          "shapedefaults": {
           "line": {
            "color": "#2a3f5f"
           }
          },
          "ternary": {
           "aaxis": {
            "gridcolor": "white",
            "linecolor": "white",
            "ticks": ""
           },
           "baxis": {
            "gridcolor": "white",
            "linecolor": "white",
            "ticks": ""
           },
           "bgcolor": "#E5ECF6",
           "caxis": {
            "gridcolor": "white",
            "linecolor": "white",
            "ticks": ""
           }
          },
          "title": {
           "x": 0.05
          },
          "xaxis": {
           "automargin": true,
           "gridcolor": "white",
           "linecolor": "white",
           "ticks": "",
           "title": {
            "standoff": 15
           },
           "zerolinecolor": "white",
           "zerolinewidth": 2
          },
          "yaxis": {
           "automargin": true,
           "gridcolor": "white",
           "linecolor": "white",
           "ticks": "",
           "title": {
            "standoff": 15
           },
           "zerolinecolor": "white",
           "zerolinewidth": 2
          }
         }
        },
        "title": {
         "text": "Docks available on TARGET STATION"
        },
        "xaxis": {
         "anchor": "y",
         "domain": [
          0,
          1
         ],
         "title": {
          "text": "time"
         }
        },
        "yaxis": {
         "anchor": "x",
         "domain": [
          0,
          1
         ],
         "title": {
          "text": "docks_available"
         }
        }
       }
      },
      "text/html": [
       "<div>                            <div id=\"eb8c8127-bd2c-4ac0-a19a-edc8f59d9668\" class=\"plotly-graph-div\" style=\"height:525px; width:100%;\"></div>            <script type=\"text/javascript\">                require([\"plotly\"], function(Plotly) {                    window.PLOTLYENV=window.PLOTLYENV || {};                                    if (document.getElementById(\"eb8c8127-bd2c-4ac0-a19a-edc8f59d9668\")) {                    Plotly.newPlot(                        \"eb8c8127-bd2c-4ac0-a19a-edc8f59d9668\",                        [{\"hovertemplate\":\"time=%{x}<br>docks_available=%{y}<extra></extra>\",\"legendgroup\":\"\",\"line\":{\"color\":\"#636efa\",\"dash\":\"solid\"},\"marker\":{\"symbol\":\"circle\"},\"mode\":\"lines\",\"name\":\"\",\"orientation\":\"v\",\"showlegend\":false,\"type\":\"scatter\",\"x\":[\"2022-03-19T17:00:00\",\"2022-03-19T18:00:00\",\"2022-03-19T19:00:00\",\"2022-03-19T20:00:00\",\"2022-03-19T21:00:00\",\"2022-03-19T22:00:00\",\"2022-03-19T23:00:00\",\"2022-03-20T00:00:00\",\"2022-03-20T01:00:00\",\"2022-03-20T02:00:00\",\"2022-03-20T03:00:00\",\"2022-03-20T04:00:00\",\"2022-03-20T05:00:00\",\"2022-03-20T06:00:00\",\"2022-03-20T07:00:00\",\"2022-03-20T08:00:00\",\"2022-03-20T09:00:00\",\"2022-03-20T10:00:00\",\"2022-03-20T11:00:00\",\"2022-03-20T12:00:00\",\"2022-03-20T13:00:00\",\"2022-03-20T14:00:00\",\"2022-03-20T15:00:00\",\"2022-03-20T16:00:00\",\"2022-03-20T17:00:00\",\"2022-03-20T18:00:00\",\"2022-03-20T19:00:00\",\"2022-03-20T20:00:00\",\"2022-03-20T21:00:00\",\"2022-03-20T22:00:00\",\"2022-03-20T23:00:00\",\"2022-03-21T00:00:00\",\"2022-03-21T01:00:00\",\"2022-03-21T02:00:00\",\"2022-03-21T03:00:00\",\"2022-03-21T04:00:00\",\"2022-03-21T05:00:00\",\"2022-03-21T06:00:00\",\"2022-03-21T07:00:00\",\"2022-03-21T08:00:00\",\"2022-03-21T09:00:00\",\"2022-03-21T10:00:00\",\"2022-03-21T11:00:00\",\"2022-03-21T12:00:00\",\"2022-03-21T13:00:00\",\"2022-03-21T14:00:00\",\"2022-03-21T15:00:00\",\"2022-03-21T16:00:00\",\"2022-03-21T17:00:00\",\"2022-03-21T18:00:00\",\"2022-03-21T19:00:00\",\"2022-03-21T20:00:00\",\"2022-03-21T21:00:00\",\"2022-03-21T22:00:00\",\"2022-03-21T23:00:00\",\"2022-03-22T00:00:00\",\"2022-03-22T01:00:00\",\"2022-03-22T02:00:00\",\"2022-03-22T03:00:00\",\"2022-03-22T04:00:00\",\"2022-03-22T05:00:00\",\"2022-03-22T06:00:00\",\"2022-03-22T07:00:00\",\"2022-03-22T08:00:00\",\"2022-03-22T09:00:00\",\"2022-03-22T10:00:00\",\"2022-03-22T11:00:00\",\"2022-03-22T12:00:00\",\"2022-03-22T13:00:00\",\"2022-03-22T14:00:00\",\"2022-03-22T15:00:00\",\"2022-03-22T16:00:00\",\"2022-03-22T17:00:00\",\"2022-03-22T18:00:00\",\"2022-03-22T19:00:00\",\"2022-03-22T20:00:00\",\"2022-03-22T21:00:00\",\"2022-03-22T22:00:00\",\"2022-03-22T23:00:00\",\"2022-03-23T00:00:00\",\"2022-03-23T01:00:00\",\"2022-03-23T02:00:00\",\"2022-03-23T03:00:00\",\"2022-03-23T04:00:00\",\"2022-03-23T05:00:00\",\"2022-03-23T06:00:00\",\"2022-03-23T07:00:00\",\"2022-03-23T08:00:00\",\"2022-03-23T09:00:00\",\"2022-03-23T10:00:00\",\"2022-03-23T11:00:00\",\"2022-03-23T12:00:00\",\"2022-03-23T13:00:00\",\"2022-03-23T14:00:00\",\"2022-03-25T23:00:00\",\"2022-03-26T00:00:00\",\"2022-03-26T01:00:00\",\"2022-03-26T02:00:00\",\"2022-03-26T03:00:00\",\"2022-03-26T04:00:00\",\"2022-03-26T05:00:00\",\"2022-03-26T06:00:00\",\"2022-03-26T07:00:00\",\"2022-03-26T08:00:00\",\"2022-03-26T09:00:00\",\"2022-03-26T10:00:00\",\"2022-03-26T11:00:00\",\"2022-03-26T12:00:00\",\"2022-03-26T13:00:00\",\"2022-03-26T14:00:00\",\"2022-03-26T15:00:00\",\"2022-03-26T16:00:00\",\"2022-03-26T17:00:00\",\"2022-03-26T18:00:00\",\"2022-03-26T19:00:00\",\"2022-03-26T20:00:00\",\"2022-03-26T21:00:00\",\"2022-03-26T22:00:00\",\"2022-03-26T23:00:00\",\"2022-03-27T00:00:00\",\"2022-03-27T01:00:00\",\"2022-03-27T03:00:00\",\"2022-03-27T04:00:00\",\"2022-03-27T05:00:00\",\"2022-03-27T06:00:00\",\"2022-03-27T07:00:00\",\"2022-03-27T08:00:00\",\"2022-03-27T09:00:00\",\"2022-03-27T10:00:00\",\"2022-03-27T11:00:00\",\"2022-03-27T12:00:00\",\"2022-03-27T13:00:00\",\"2022-03-27T14:00:00\",\"2022-03-27T15:00:00\",\"2022-03-27T16:00:00\",\"2022-03-27T17:00:00\",\"2022-03-27T18:00:00\",\"2022-03-27T19:00:00\",\"2022-03-27T20:00:00\",\"2022-03-27T21:00:00\",\"2022-03-28T00:00:00\",\"2022-03-28T01:00:00\",\"2022-03-28T02:00:00\",\"2022-03-28T03:00:00\",\"2022-03-28T04:00:00\",\"2022-03-28T05:00:00\",\"2022-03-28T06:00:00\",\"2022-03-28T07:00:00\",\"2022-03-28T08:00:00\",\"2022-03-28T09:00:00\",\"2022-03-28T10:00:00\",\"2022-03-28T11:00:00\",\"2022-03-28T12:00:00\",\"2022-03-28T13:00:00\",\"2022-03-28T14:00:00\",\"2022-03-28T15:00:00\",\"2022-03-28T16:00:00\",\"2022-03-28T17:00:00\",\"2022-03-28T18:00:00\",\"2022-03-28T19:00:00\",\"2022-03-28T20:00:00\",\"2022-03-28T21:00:00\",\"2022-03-28T22:00:00\",\"2022-03-28T23:00:00\",\"2022-03-29T00:00:00\",\"2022-03-29T06:00:00\",\"2022-03-29T07:00:00\",\"2022-03-29T08:00:00\",\"2022-03-29T09:00:00\",\"2022-03-29T10:00:00\",\"2022-03-29T11:00:00\",\"2022-03-29T12:00:00\",\"2022-03-29T13:00:00\",\"2022-03-29T14:00:00\",\"2022-03-29T15:00:00\",\"2022-03-29T16:00:00\",\"2022-03-29T17:00:00\",\"2022-03-29T18:00:00\",\"2022-03-29T19:00:00\",\"2022-03-29T20:00:00\",\"2022-03-29T21:00:00\",\"2022-03-29T22:00:00\",\"2022-03-29T23:00:00\",\"2022-03-30T00:00:00\",\"2022-03-30T01:00:00\",\"2022-03-30T02:00:00\",\"2022-03-30T03:00:00\",\"2022-03-30T04:00:00\",\"2022-03-30T05:00:00\",\"2022-03-30T06:00:00\",\"2022-03-30T07:00:00\",\"2022-03-30T08:00:00\",\"2022-03-30T09:00:00\",\"2022-03-30T10:00:00\",\"2022-03-30T11:00:00\",\"2022-03-30T12:00:00\",\"2022-03-30T13:00:00\",\"2022-03-30T14:00:00\",\"2022-03-30T15:00:00\",\"2022-03-30T16:00:00\",\"2022-03-30T17:00:00\",\"2022-03-30T18:00:00\",\"2022-03-30T19:00:00\",\"2022-03-30T20:00:00\",\"2022-03-30T21:00:00\",\"2022-03-30T22:00:00\",\"2022-03-30T23:00:00\",\"2022-03-31T00:00:00\",\"2022-03-31T01:00:00\",\"2022-03-31T02:00:00\",\"2022-03-31T03:00:00\",\"2022-03-31T04:00:00\",\"2022-03-31T05:00:00\",\"2022-03-31T06:00:00\",\"2022-03-31T07:00:00\",\"2022-03-31T08:00:00\",\"2022-03-31T09:00:00\",\"2022-03-31T10:00:00\",\"2022-03-31T11:00:00\",\"2022-03-31T12:00:00\",\"2022-03-31T13:00:00\",\"2022-03-31T14:00:00\",\"2022-03-31T15:00:00\",\"2022-03-31T16:00:00\",\"2022-03-31T17:00:00\",\"2022-03-31T18:00:00\",\"2022-03-31T19:00:00\",\"2022-03-31T20:00:00\",\"2022-03-31T21:00:00\",\"2022-03-31T22:00:00\",\"2022-03-31T23:00:00\",\"2022-04-01T00:00:00\",\"2022-04-01T01:00:00\",\"2022-04-01T02:00:00\",\"2022-04-01T03:00:00\",\"2022-04-01T04:00:00\",\"2022-04-01T05:00:00\",\"2022-04-01T06:00:00\",\"2022-04-01T07:00:00\",\"2022-04-01T08:00:00\",\"2022-04-01T09:00:00\",\"2022-04-01T10:00:00\",\"2022-04-01T11:00:00\",\"2022-04-01T12:00:00\",\"2022-04-01T13:00:00\",\"2022-04-01T14:00:00\",\"2022-04-01T15:00:00\",\"2022-04-01T16:00:00\",\"2022-04-01T17:00:00\",\"2022-04-01T18:00:00\",\"2022-04-01T19:00:00\",\"2022-04-01T20:00:00\",\"2022-04-01T21:00:00\",\"2022-04-01T22:00:00\",\"2022-04-01T23:00:00\",\"2022-04-02T00:00:00\",\"2022-04-02T01:00:00\",\"2022-04-02T02:00:00\",\"2022-04-02T03:00:00\",\"2022-04-02T04:00:00\",\"2022-04-02T05:00:00\",\"2022-04-02T06:00:00\",\"2022-04-02T07:00:00\",\"2022-04-02T08:00:00\",\"2022-04-02T09:00:00\",\"2022-04-02T10:00:00\",\"2022-04-02T11:00:00\",\"2022-04-02T12:00:00\",\"2022-04-02T13:00:00\",\"2022-04-02T14:00:00\",\"2022-04-02T15:00:00\",\"2022-04-02T16:00:00\",\"2022-04-02T17:00:00\",\"2022-04-02T18:00:00\",\"2022-04-02T19:00:00\",\"2022-04-02T20:00:00\",\"2022-04-02T21:00:00\",\"2022-04-02T22:00:00\",\"2022-04-02T23:00:00\",\"2022-04-03T00:00:00\",\"2022-04-03T01:00:00\",\"2022-04-03T02:00:00\",\"2022-04-03T03:00:00\",\"2022-04-03T04:00:00\",\"2022-04-03T05:00:00\",\"2022-04-03T06:00:00\",\"2022-04-03T07:00:00\",\"2022-04-03T08:00:00\",\"2022-04-03T09:00:00\",\"2022-04-03T10:00:00\",\"2022-04-03T11:00:00\",\"2022-04-03T12:00:00\",\"2022-04-03T13:00:00\",\"2022-04-03T14:00:00\",\"2022-04-03T15:00:00\",\"2022-04-03T16:00:00\",\"2022-04-03T17:00:00\",\"2022-04-03T18:00:00\",\"2022-04-03T19:00:00\",\"2022-04-03T20:00:00\",\"2022-04-03T21:00:00\",\"2022-04-03T22:00:00\",\"2022-04-03T23:00:00\",\"2022-04-04T00:00:00\",\"2022-04-04T01:00:00\",\"2022-04-04T02:00:00\",\"2022-04-04T03:00:00\",\"2022-04-04T04:00:00\",\"2022-04-04T05:00:00\",\"2022-04-04T06:00:00\",\"2022-04-04T07:00:00\",\"2022-04-04T08:00:00\",\"2022-04-04T09:00:00\",\"2022-04-04T10:00:00\",\"2022-04-04T11:00:00\",\"2022-04-04T12:00:00\",\"2022-04-04T13:00:00\",\"2022-04-04T14:00:00\",\"2022-04-04T15:00:00\",\"2022-04-04T16:00:00\",\"2022-04-04T17:00:00\",\"2022-04-04T18:00:00\",\"2022-04-04T19:00:00\",\"2022-04-04T20:00:00\",\"2022-04-04T21:00:00\",\"2022-04-04T22:00:00\",\"2022-04-04T23:00:00\",\"2022-04-05T00:00:00\",\"2022-04-05T01:00:00\",\"2022-04-05T02:00:00\",\"2022-04-05T03:00:00\",\"2022-04-05T04:00:00\",\"2022-04-05T05:00:00\",\"2022-04-05T06:00:00\",\"2022-04-05T07:00:00\",\"2022-04-05T08:00:00\",\"2022-04-05T09:00:00\",\"2022-04-05T10:00:00\",\"2022-04-05T11:00:00\",\"2022-04-05T12:00:00\",\"2022-04-05T13:00:00\",\"2022-04-05T14:00:00\",\"2022-04-05T15:00:00\",\"2022-04-05T16:00:00\",\"2022-04-05T17:00:00\",\"2022-04-05T18:00:00\",\"2022-04-05T19:00:00\",\"2022-04-05T20:00:00\",\"2022-04-05T21:00:00\",\"2022-04-05T22:00:00\",\"2022-04-05T23:00:00\",\"2022-04-06T00:00:00\",\"2022-04-06T01:00:00\",\"2022-04-06T02:00:00\",\"2022-04-06T03:00:00\",\"2022-04-06T04:00:00\",\"2022-04-06T05:00:00\",\"2022-04-06T06:00:00\",\"2022-04-06T07:00:00\",\"2022-04-06T08:00:00\",\"2022-04-06T09:00:00\",\"2022-04-06T10:00:00\",\"2022-04-06T11:00:00\",\"2022-04-06T12:00:00\",\"2022-04-06T13:00:00\",\"2022-04-06T14:00:00\",\"2022-04-06T15:00:00\",\"2022-04-06T16:00:00\",\"2022-04-06T17:00:00\",\"2022-04-06T18:00:00\",\"2022-04-06T19:00:00\",\"2022-04-06T20:00:00\",\"2022-04-06T21:00:00\",\"2022-04-06T22:00:00\",\"2022-04-06T23:00:00\",\"2022-04-07T00:00:00\",\"2022-04-07T01:00:00\",\"2022-04-07T02:00:00\",\"2022-04-07T03:00:00\",\"2022-04-07T04:00:00\",\"2022-04-07T05:00:00\",\"2022-04-07T06:00:00\",\"2022-04-07T07:00:00\",\"2022-04-07T08:00:00\",\"2022-04-07T09:00:00\",\"2022-04-07T10:00:00\",\"2022-04-07T11:00:00\",\"2022-04-07T12:00:00\",\"2022-04-07T13:00:00\",\"2022-04-07T14:00:00\",\"2022-04-07T15:00:00\",\"2022-04-07T16:00:00\",\"2022-04-07T17:00:00\",\"2022-04-07T18:00:00\",\"2022-04-07T19:00:00\",\"2022-04-07T20:00:00\",\"2022-04-07T21:00:00\",\"2022-04-07T22:00:00\",\"2022-04-07T23:00:00\",\"2022-04-08T00:00:00\",\"2022-04-08T01:00:00\",\"2022-04-08T02:00:00\",\"2022-04-08T03:00:00\",\"2022-04-08T04:00:00\",\"2022-04-08T05:00:00\",\"2022-04-08T06:00:00\",\"2022-04-08T07:00:00\",\"2022-04-08T08:00:00\",\"2022-04-08T09:00:00\",\"2022-04-08T10:00:00\",\"2022-04-08T11:00:00\",\"2022-04-08T12:00:00\",\"2022-04-08T13:00:00\",\"2022-04-08T14:00:00\",\"2022-04-08T15:00:00\",\"2022-04-08T16:00:00\",\"2022-04-08T17:00:00\",\"2022-04-08T18:00:00\",\"2022-04-08T19:00:00\",\"2022-04-08T20:00:00\",\"2022-04-08T21:00:00\",\"2022-04-08T22:00:00\",\"2022-04-08T23:00:00\",\"2022-04-09T00:00:00\",\"2022-04-09T01:00:00\",\"2022-04-09T02:00:00\",\"2022-04-09T03:00:00\",\"2022-04-09T04:00:00\",\"2022-04-09T05:00:00\",\"2022-04-09T06:00:00\",\"2022-04-09T07:00:00\",\"2022-04-09T08:00:00\",\"2022-04-09T09:00:00\",\"2022-04-09T10:00:00\",\"2022-04-09T11:00:00\",\"2022-04-09T12:00:00\",\"2022-04-09T13:00:00\",\"2022-04-09T14:00:00\",\"2022-04-09T15:00:00\",\"2022-04-09T16:00:00\",\"2022-04-09T17:00:00\",\"2022-04-09T18:00:00\",\"2022-04-09T19:00:00\",\"2022-04-09T20:00:00\",\"2022-04-09T21:00:00\",\"2022-04-09T22:00:00\",\"2022-04-09T23:00:00\",\"2022-04-10T00:00:00\",\"2022-04-10T01:00:00\",\"2022-04-10T02:00:00\",\"2022-04-10T03:00:00\",\"2022-04-10T04:00:00\",\"2022-04-10T05:00:00\",\"2022-04-10T06:00:00\",\"2022-04-10T07:00:00\",\"2022-04-10T08:00:00\",\"2022-04-10T09:00:00\",\"2022-04-10T10:00:00\",\"2022-04-10T11:00:00\",\"2022-04-10T12:00:00\",\"2022-04-10T13:00:00\",\"2022-04-10T14:00:00\",\"2022-04-10T15:00:00\",\"2022-04-10T16:00:00\",\"2022-04-10T17:00:00\",\"2022-04-10T18:00:00\",\"2022-04-10T19:00:00\",\"2022-04-10T20:00:00\",\"2022-04-10T21:00:00\",\"2022-04-10T22:00:00\",\"2022-04-10T23:00:00\",\"2022-04-11T00:00:00\",\"2022-04-11T01:00:00\",\"2022-04-11T02:00:00\",\"2022-04-11T03:00:00\",\"2022-04-11T04:00:00\",\"2022-04-11T05:00:00\",\"2022-04-11T06:00:00\",\"2022-04-11T07:00:00\",\"2022-04-11T08:00:00\",\"2022-04-11T09:00:00\",\"2022-04-11T10:00:00\",\"2022-04-11T11:00:00\"],\"xaxis\":\"x\",\"y\":[10.666666666666666,16.5,19.25,20.75,16.25,17.25,18.75,18.5,17.666666666666668,20.0,19.75,20.0,22.0,22.0,22.0,22.0,22.5,22.5,22.75,22.0,21.75,22.25,21.25,20.25,21.5,19.0,16.75,15.5,13.0,12.5,13.5,14.25,13.5,13.0,13.0,13.0,13.0,13.25,14.0,12.75,13.0,3.0,9.25,8.0,6.0,6.0,0.75,0.0,4.0,8.0,16.75,18.75,16.75,22.5,23.5,23.0,23.0,23.5,24.0,23.5,23.0,23.0,23.0,22.5,11.5,3.75,0.75,0.75,1.0,0.3333333333333333,2.0,1.75,0.75,5.75,7.75,8.5,8.5,10.666666666666666,12.75,18.25,19.25,20.5,21.0,21.0,21.0,20.75,21.0,19.5,12.5,5.5,1.5,5.25,2.25,0.5,13.666666666666666,15.5,17.75,18.666666666666668,20.0,20.75,21.0,21.0,20.75,20.5,20.5,19.75,16.0,15.75,21.75,17.75,20.0,21.0,21.25,19.5,19.5,13.0,4.5,2.0,6.0,6.5,8.25,12.5,17.25,19.0,20.75,19.333333333333332,17.5,14.25,16.0,21.25,21.75,21.5,21.5,21.0,20.0,23.0,19.0,18.0,14.25,10.25,11.0,12.0,11.0,11.0,11.0,11.0,11.0,11.75,10.0,7.5,1.0,4.0,12.5,8.5,2.0,1.5,2.75,2.75,9.25,11.666666666666666,20.25,20.25,22.0,21.25,21.0,21.666666666666668,21.0,18.0,13.25,10.25,9.0,6.25,3.25,1.25,1.5,4.25,8.5,11.75,13.25,14.0,12.25,15.333333333333334,17.5,18.75,19.0,19.0,21.0,22.0,22.0,22.0,20.0,18.75,11.5,4.25,2.25,0.5,1.0,2.25,1.0,2.0,1.75,3.5,8.25,10.25,13.75,14.5,14.75,17.5,18.0,18.5,20.0,21.0,21.25,22.0,21.25,20.5,15.0,2.75,1.25,2.5,6.0,7.0,6.75,6.25,11.5,16.25,18.5,20.5,21.5,20.5,20.75,21.75,22.25,22.25,22.0,21.666666666666668,21.0,21.0,20.75,18.25,14.25,16.0,19.0,18.0,15.25,15.75,14.75,16.25,18.0,20.25,20.75,21.0,19.0,20.75,21.75,19.75,19.25,19.0,19.0,19.75,22.0,21.25,21.5,21.75,22.0,22.333333333333332,18.75,20.5,18.25,17.75,20.0,17.5,17.25,21.75,20.75,18.5,14.25,15.75,15.25,18.5,20.5,20.5,22.0,22.0,21.75,20.0,20.0,20.0,20.0,20.0,21.75,20.5,20.0,21.25,22.0,23.5,22.75,20.25,21.75,21.0,19.0,18.25,16.25,18.0,18.0,18.5,18.75,18.0,18.0,18.25,18.75,16.5,13.25,8.5,10.0,9.25,9.666666666666666,9.75,8.25,6.333333333333333,8.25,17.25,20.75,21.5,22.5,22.25,22.5,21.75,23.0,23.0,22.75,22.0,22.0,22.0,21.0,18.75,11.75,3.5,1.5,7.0,7.5,9.0,5.25,3.6666666666666665,10.75,19.25,22.75,23.0,22.75,22.75,21.25,22.75,23.0,23.0,22.75,22.0,22.0,21.0,20.5,22.5,9.75,0.0,1.25,2.5,3.0,1.75,3.75,6.0,9.5,13.5,16.0,17.0,18.0,17.0,19.75,20.0,20.0,20.0,20.0,19.0,20.0,20.0,19.5,17.0,9.0,1.25,0.0,4.75,1.75,2.5,8.0,7.75,10.75,15.5,15.5,18.25,18.0,16.75,19.25,19.0,19.0,17.0,19.0,18.75,19.0,19.0,19.0,17.0,14.5,13.25,14.75,12.25,13.25,12.5,14.0,12.25,14.25,16.75,16.5,13.5,14.0,14.5,13.75,14.0,15.25,15.0,14.75,15.75,16.0,17.0,17.0,17.5,17.0,17.75,17.5,17.5,16.5,14.75,16.25,16.0,17.25,16.0,15.25,15.0,12.25,8.5,7.5,10.75,14.25,16.25,17.5,18.0,18.0,18.0,17.75,17.25,17.75,17.75,16.75,16.75,14.5,14.75,14.5,15.75,14.5,12.5,11.25,13.25,12.25,11.0,12.75,13.0,13.25,13.75,15.0,15.0,15.0,15.0,15.0,13.0,7.25,2.0,0.75],\"yaxis\":\"y\"}],                        {\"legend\":{\"tracegroupgap\":0},\"template\":{\"data\":{\"bar\":[{\"error_x\":{\"color\":\"#2a3f5f\"},\"error_y\":{\"color\":\"#2a3f5f\"},\"marker\":{\"line\":{\"color\":\"#E5ECF6\",\"width\":0.5},\"pattern\":{\"fillmode\":\"overlay\",\"size\":10,\"solidity\":0.2}},\"type\":\"bar\"}],\"barpolar\":[{\"marker\":{\"line\":{\"color\":\"#E5ECF6\",\"width\":0.5},\"pattern\":{\"fillmode\":\"overlay\",\"size\":10,\"solidity\":0.2}},\"type\":\"barpolar\"}],\"carpet\":[{\"aaxis\":{\"endlinecolor\":\"#2a3f5f\",\"gridcolor\":\"white\",\"linecolor\":\"white\",\"minorgridcolor\":\"white\",\"startlinecolor\":\"#2a3f5f\"},\"baxis\":{\"endlinecolor\":\"#2a3f5f\",\"gridcolor\":\"white\",\"linecolor\":\"white\",\"minorgridcolor\":\"white\",\"startlinecolor\":\"#2a3f5f\"},\"type\":\"carpet\"}],\"choropleth\":[{\"colorbar\":{\"outlinewidth\":0,\"ticks\":\"\"},\"type\":\"choropleth\"}],\"contour\":[{\"colorbar\":{\"outlinewidth\":0,\"ticks\":\"\"},\"colorscale\":[[0.0,\"#0d0887\"],[0.1111111111111111,\"#46039f\"],[0.2222222222222222,\"#7201a8\"],[0.3333333333333333,\"#9c179e\"],[0.4444444444444444,\"#bd3786\"],[0.5555555555555556,\"#d8576b\"],[0.6666666666666666,\"#ed7953\"],[0.7777777777777778,\"#fb9f3a\"],[0.8888888888888888,\"#fdca26\"],[1.0,\"#f0f921\"]],\"type\":\"contour\"}],\"contourcarpet\":[{\"colorbar\":{\"outlinewidth\":0,\"ticks\":\"\"},\"type\":\"contourcarpet\"}],\"heatmap\":[{\"colorbar\":{\"outlinewidth\":0,\"ticks\":\"\"},\"colorscale\":[[0.0,\"#0d0887\"],[0.1111111111111111,\"#46039f\"],[0.2222222222222222,\"#7201a8\"],[0.3333333333333333,\"#9c179e\"],[0.4444444444444444,\"#bd3786\"],[0.5555555555555556,\"#d8576b\"],[0.6666666666666666,\"#ed7953\"],[0.7777777777777778,\"#fb9f3a\"],[0.8888888888888888,\"#fdca26\"],[1.0,\"#f0f921\"]],\"type\":\"heatmap\"}],\"heatmapgl\":[{\"colorbar\":{\"outlinewidth\":0,\"ticks\":\"\"},\"colorscale\":[[0.0,\"#0d0887\"],[0.1111111111111111,\"#46039f\"],[0.2222222222222222,\"#7201a8\"],[0.3333333333333333,\"#9c179e\"],[0.4444444444444444,\"#bd3786\"],[0.5555555555555556,\"#d8576b\"],[0.6666666666666666,\"#ed7953\"],[0.7777777777777778,\"#fb9f3a\"],[0.8888888888888888,\"#fdca26\"],[1.0,\"#f0f921\"]],\"type\":\"heatmapgl\"}],\"histogram\":[{\"marker\":{\"pattern\":{\"fillmode\":\"overlay\",\"size\":10,\"solidity\":0.2}},\"type\":\"histogram\"}],\"histogram2d\":[{\"colorbar\":{\"outlinewidth\":0,\"ticks\":\"\"},\"colorscale\":[[0.0,\"#0d0887\"],[0.1111111111111111,\"#46039f\"],[0.2222222222222222,\"#7201a8\"],[0.3333333333333333,\"#9c179e\"],[0.4444444444444444,\"#bd3786\"],[0.5555555555555556,\"#d8576b\"],[0.6666666666666666,\"#ed7953\"],[0.7777777777777778,\"#fb9f3a\"],[0.8888888888888888,\"#fdca26\"],[1.0,\"#f0f921\"]],\"type\":\"histogram2d\"}],\"histogram2dcontour\":[{\"colorbar\":{\"outlinewidth\":0,\"ticks\":\"\"},\"colorscale\":[[0.0,\"#0d0887\"],[0.1111111111111111,\"#46039f\"],[0.2222222222222222,\"#7201a8\"],[0.3333333333333333,\"#9c179e\"],[0.4444444444444444,\"#bd3786\"],[0.5555555555555556,\"#d8576b\"],[0.6666666666666666,\"#ed7953\"],[0.7777777777777778,\"#fb9f3a\"],[0.8888888888888888,\"#fdca26\"],[1.0,\"#f0f921\"]],\"type\":\"histogram2dcontour\"}],\"mesh3d\":[{\"colorbar\":{\"outlinewidth\":0,\"ticks\":\"\"},\"type\":\"mesh3d\"}],\"parcoords\":[{\"line\":{\"colorbar\":{\"outlinewidth\":0,\"ticks\":\"\"}},\"type\":\"parcoords\"}],\"pie\":[{\"automargin\":true,\"type\":\"pie\"}],\"scatter\":[{\"marker\":{\"colorbar\":{\"outlinewidth\":0,\"ticks\":\"\"}},\"type\":\"scatter\"}],\"scatter3d\":[{\"line\":{\"colorbar\":{\"outlinewidth\":0,\"ticks\":\"\"}},\"marker\":{\"colorbar\":{\"outlinewidth\":0,\"ticks\":\"\"}},\"type\":\"scatter3d\"}],\"scattercarpet\":[{\"marker\":{\"colorbar\":{\"outlinewidth\":0,\"ticks\":\"\"}},\"type\":\"scattercarpet\"}],\"scattergeo\":[{\"marker\":{\"colorbar\":{\"outlinewidth\":0,\"ticks\":\"\"}},\"type\":\"scattergeo\"}],\"scattergl\":[{\"marker\":{\"colorbar\":{\"outlinewidth\":0,\"ticks\":\"\"}},\"type\":\"scattergl\"}],\"scattermapbox\":[{\"marker\":{\"colorbar\":{\"outlinewidth\":0,\"ticks\":\"\"}},\"type\":\"scattermapbox\"}],\"scatterpolar\":[{\"marker\":{\"colorbar\":{\"outlinewidth\":0,\"ticks\":\"\"}},\"type\":\"scatterpolar\"}],\"scatterpolargl\":[{\"marker\":{\"colorbar\":{\"outlinewidth\":0,\"ticks\":\"\"}},\"type\":\"scatterpolargl\"}],\"scatterternary\":[{\"marker\":{\"colorbar\":{\"outlinewidth\":0,\"ticks\":\"\"}},\"type\":\"scatterternary\"}],\"surface\":[{\"colorbar\":{\"outlinewidth\":0,\"ticks\":\"\"},\"colorscale\":[[0.0,\"#0d0887\"],[0.1111111111111111,\"#46039f\"],[0.2222222222222222,\"#7201a8\"],[0.3333333333333333,\"#9c179e\"],[0.4444444444444444,\"#bd3786\"],[0.5555555555555556,\"#d8576b\"],[0.6666666666666666,\"#ed7953\"],[0.7777777777777778,\"#fb9f3a\"],[0.8888888888888888,\"#fdca26\"],[1.0,\"#f0f921\"]],\"type\":\"surface\"}],\"table\":[{\"cells\":{\"fill\":{\"color\":\"#EBF0F8\"},\"line\":{\"color\":\"white\"}},\"header\":{\"fill\":{\"color\":\"#C8D4E3\"},\"line\":{\"color\":\"white\"}},\"type\":\"table\"}]},\"layout\":{\"annotationdefaults\":{\"arrowcolor\":\"#2a3f5f\",\"arrowhead\":0,\"arrowwidth\":1},\"autotypenumbers\":\"strict\",\"coloraxis\":{\"colorbar\":{\"outlinewidth\":0,\"ticks\":\"\"}},\"colorscale\":{\"diverging\":[[0,\"#8e0152\"],[0.1,\"#c51b7d\"],[0.2,\"#de77ae\"],[0.3,\"#f1b6da\"],[0.4,\"#fde0ef\"],[0.5,\"#f7f7f7\"],[0.6,\"#e6f5d0\"],[0.7,\"#b8e186\"],[0.8,\"#7fbc41\"],[0.9,\"#4d9221\"],[1,\"#276419\"]],\"sequential\":[[0.0,\"#0d0887\"],[0.1111111111111111,\"#46039f\"],[0.2222222222222222,\"#7201a8\"],[0.3333333333333333,\"#9c179e\"],[0.4444444444444444,\"#bd3786\"],[0.5555555555555556,\"#d8576b\"],[0.6666666666666666,\"#ed7953\"],[0.7777777777777778,\"#fb9f3a\"],[0.8888888888888888,\"#fdca26\"],[1.0,\"#f0f921\"]],\"sequentialminus\":[[0.0,\"#0d0887\"],[0.1111111111111111,\"#46039f\"],[0.2222222222222222,\"#7201a8\"],[0.3333333333333333,\"#9c179e\"],[0.4444444444444444,\"#bd3786\"],[0.5555555555555556,\"#d8576b\"],[0.6666666666666666,\"#ed7953\"],[0.7777777777777778,\"#fb9f3a\"],[0.8888888888888888,\"#fdca26\"],[1.0,\"#f0f921\"]]},\"colorway\":[\"#636efa\",\"#EF553B\",\"#00cc96\",\"#ab63fa\",\"#FFA15A\",\"#19d3f3\",\"#FF6692\",\"#B6E880\",\"#FF97FF\",\"#FECB52\"],\"font\":{\"color\":\"#2a3f5f\"},\"geo\":{\"bgcolor\":\"white\",\"lakecolor\":\"white\",\"landcolor\":\"#E5ECF6\",\"showlakes\":true,\"showland\":true,\"subunitcolor\":\"white\"},\"hoverlabel\":{\"align\":\"left\"},\"hovermode\":\"closest\",\"mapbox\":{\"style\":\"light\"},\"paper_bgcolor\":\"white\",\"plot_bgcolor\":\"#E5ECF6\",\"polar\":{\"angularaxis\":{\"gridcolor\":\"white\",\"linecolor\":\"white\",\"ticks\":\"\"},\"bgcolor\":\"#E5ECF6\",\"radialaxis\":{\"gridcolor\":\"white\",\"linecolor\":\"white\",\"ticks\":\"\"}},\"scene\":{\"xaxis\":{\"backgroundcolor\":\"#E5ECF6\",\"gridcolor\":\"white\",\"gridwidth\":2,\"linecolor\":\"white\",\"showbackground\":true,\"ticks\":\"\",\"zerolinecolor\":\"white\"},\"yaxis\":{\"backgroundcolor\":\"#E5ECF6\",\"gridcolor\":\"white\",\"gridwidth\":2,\"linecolor\":\"white\",\"showbackground\":true,\"ticks\":\"\",\"zerolinecolor\":\"white\"},\"zaxis\":{\"backgroundcolor\":\"#E5ECF6\",\"gridcolor\":\"white\",\"gridwidth\":2,\"linecolor\":\"white\",\"showbackground\":true,\"ticks\":\"\",\"zerolinecolor\":\"white\"}},\"shapedefaults\":{\"line\":{\"color\":\"#2a3f5f\"}},\"ternary\":{\"aaxis\":{\"gridcolor\":\"white\",\"linecolor\":\"white\",\"ticks\":\"\"},\"baxis\":{\"gridcolor\":\"white\",\"linecolor\":\"white\",\"ticks\":\"\"},\"bgcolor\":\"#E5ECF6\",\"caxis\":{\"gridcolor\":\"white\",\"linecolor\":\"white\",\"ticks\":\"\"}},\"title\":{\"x\":0.05},\"xaxis\":{\"automargin\":true,\"gridcolor\":\"white\",\"linecolor\":\"white\",\"ticks\":\"\",\"title\":{\"standoff\":15},\"zerolinecolor\":\"white\",\"zerolinewidth\":2},\"yaxis\":{\"automargin\":true,\"gridcolor\":\"white\",\"linecolor\":\"white\",\"ticks\":\"\",\"title\":{\"standoff\":15},\"zerolinecolor\":\"white\",\"zerolinewidth\":2}}},\"title\":{\"text\":\"Docks available on TARGET STATION\"},\"xaxis\":{\"anchor\":\"y\",\"domain\":[0.0,1.0],\"title\":{\"text\":\"time\"}},\"yaxis\":{\"anchor\":\"x\",\"domain\":[0.0,1.0],\"title\":{\"text\":\"docks_available\"}}},                        {\"responsive\": true}                    ).then(function(){\n",
       "                            \n",
       "var gd = document.getElementById('eb8c8127-bd2c-4ac0-a19a-edc8f59d9668');\n",
       "var x = new MutationObserver(function (mutations, observer) {{\n",
       "        var display = window.getComputedStyle(gd).display;\n",
       "        if (!display || display === 'none') {{\n",
       "            console.log([gd, 'removed!']);\n",
       "            Plotly.purge(gd);\n",
       "            observer.disconnect();\n",
       "        }}\n",
       "}});\n",
       "\n",
       "// Listen for the removal of the full notebook cells\n",
       "var notebookContainer = gd.closest('#notebook-container');\n",
       "if (notebookContainer) {{\n",
       "    x.observe(notebookContainer, {childList: true});\n",
       "}}\n",
       "\n",
       "// Listen for the clearing of the current output cell\n",
       "var outputEl = gd.closest('.output');\n",
       "if (outputEl) {{\n",
       "    x.observe(outputEl, {childList: true});\n",
       "}}\n",
       "\n",
       "                        })                };                });            </script>        </div>"
      ]
     },
     "metadata": {},
     "output_type": "display_data"
    }
   ],
   "source": [
    "stacked_df = velib.groupby([pd.Grouper('station_id'),\n",
    "                            pd.Grouper(level='time',freq='H')]).agg({'docks_available':'mean',\n",
    "                                                                     'is_returning':min,\n",
    "                                                                     'is_returning':min,\n",
    "                                                                     'mechanical_available':'mean',\n",
    "                                                                     'ebike_available':'mean',\n",
    "                                                                     'capacity':max})\n",
    "\n",
    "plotly.line(stacked_df.loc[TARGET_ID],y='docks_available',title='Docks available on TARGET STATION')"
   ]
  },
  {
   "cell_type": "markdown",
   "id": "f3ecf2d3",
   "metadata": {},
   "source": [
    "Our station (Mairie du 9ème) seems to have a daily and weekly cycle. We can zoom in the chart and get more insight :\n",
    "\n",
    "* __During the week__ the station is empty at night and docks are getting filled from 7h to 12h. It stays flat from 12h to 16h, then people are starting to empty the station again.\n",
    "\n",
    "\n",
    "* __During the week-end__ the station is moslty empty the week-end and doesn't follow the same cycle.  \n",
    "\n",
    "That makes sense as our station is located in a working area, lots of people are commuting around here during the week.\n",
    "\n",
    "Unfortunalty we do not have enough data to evaluate some seasonality, I will perform this analysis after at least 6 month or a year of collecting data"
   ]
  },
  {
   "cell_type": "markdown",
   "id": "a96890ee",
   "metadata": {},
   "source": [
    "## Compare our station vs peers"
   ]
  },
  {
   "cell_type": "code",
   "execution_count": 658,
   "id": "45b2d58f",
   "metadata": {},
   "outputs": [],
   "source": [
    "from scipy.spatial import distance\n",
    "\n",
    "def dist_from_target(lat, lon, target_id=TARGET_ID):\n",
    "    \"Compute manhattan distance from our station\"\n",
    "    target_lat, target_lon = stations_df.loc[target_id,['lat','lon']]\n",
    "    return distance.cityblock([target_lat,target_lon], [lat, lon])"
   ]
  },
  {
   "cell_type": "code",
   "execution_count": 740,
   "id": "50dffcc1",
   "metadata": {},
   "outputs": [
    {
     "data": {
      "text/html": [
       "<div>\n",
       "<style scoped>\n",
       "    .dataframe tbody tr th:only-of-type {\n",
       "        vertical-align: middle;\n",
       "    }\n",
       "\n",
       "    .dataframe tbody tr th {\n",
       "        vertical-align: top;\n",
       "    }\n",
       "\n",
       "    .dataframe thead th {\n",
       "        text-align: right;\n",
       "    }\n",
       "</style>\n",
       "<table border=\"1\" class=\"dataframe\">\n",
       "  <thead>\n",
       "    <tr style=\"text-align: right;\">\n",
       "      <th></th>\n",
       "      <th>name</th>\n",
       "      <th>lat</th>\n",
       "      <th>lon</th>\n",
       "      <th>capacity</th>\n",
       "      <th>dist_target</th>\n",
       "      <th>is_cluster</th>\n",
       "    </tr>\n",
       "    <tr>\n",
       "      <th>station_id</th>\n",
       "      <th></th>\n",
       "      <th></th>\n",
       "      <th></th>\n",
       "      <th></th>\n",
       "      <th></th>\n",
       "      <th></th>\n",
       "    </tr>\n",
       "  </thead>\n",
       "  <tbody>\n",
       "    <tr>\n",
       "      <th>30550</th>\n",
       "      <td>Mairie du 9ème</td>\n",
       "      <td>48.873267</td>\n",
       "      <td>2.340753</td>\n",
       "      <td>24</td>\n",
       "      <td>0.000000</td>\n",
       "      <td>0.0</td>\n",
       "    </tr>\n",
       "    <tr>\n",
       "      <th>39799329</th>\n",
       "      <td>Faubourg Montmartre - La Fayette</td>\n",
       "      <td>48.875255</td>\n",
       "      <td>2.340854</td>\n",
       "      <td>35</td>\n",
       "      <td>0.002088</td>\n",
       "      <td>0.0</td>\n",
       "    </tr>\n",
       "    <tr>\n",
       "      <th>285001735</th>\n",
       "      <td>Vivienne - Montmartre</td>\n",
       "      <td>48.871348</td>\n",
       "      <td>2.341459</td>\n",
       "      <td>39</td>\n",
       "      <td>0.002625</td>\n",
       "      <td>0.0</td>\n",
       "    </tr>\n",
       "    <tr>\n",
       "      <th>129014600</th>\n",
       "      <td>Rossini - Laffitte</td>\n",
       "      <td>48.873346</td>\n",
       "      <td>2.337981</td>\n",
       "      <td>33</td>\n",
       "      <td>0.002852</td>\n",
       "      <td>0.0</td>\n",
       "    </tr>\n",
       "    <tr>\n",
       "      <th>66491366</th>\n",
       "      <td>Saint-Marc - Feydeau</td>\n",
       "      <td>48.870311</td>\n",
       "      <td>2.341979</td>\n",
       "      <td>37</td>\n",
       "      <td>0.004182</td>\n",
       "      <td>0.0</td>\n",
       "    </tr>\n",
       "  </tbody>\n",
       "</table>\n",
       "</div>"
      ],
      "text/plain": [
       "                                        name        lat       lon  capacity  \\\n",
       "station_id                                                                    \n",
       "30550                         Mairie du 9ème  48.873267  2.340753        24   \n",
       "39799329    Faubourg Montmartre - La Fayette  48.875255  2.340854        35   \n",
       "285001735              Vivienne - Montmartre  48.871348  2.341459        39   \n",
       "129014600                 Rossini - Laffitte  48.873346  2.337981        33   \n",
       "66491366                Saint-Marc - Feydeau  48.870311  2.341979        37   \n",
       "\n",
       "            dist_target  is_cluster  \n",
       "station_id                           \n",
       "30550          0.000000         0.0  \n",
       "39799329       0.002088         0.0  \n",
       "285001735      0.002625         0.0  \n",
       "129014600      0.002852         0.0  \n",
       "66491366       0.004182         0.0  "
      ]
     },
     "execution_count": 740,
     "metadata": {},
     "output_type": "execute_result"
    }
   ],
   "source": [
    "stations_df['dist_target'] = stations_df.apply(lambda df: dist_from_target(df['lat'],df['lon']),axis=1)\n",
    "closest_st = stations_df.sort_values('dist_target').iloc[:21]\n",
    "closest_ids = closest_st.index.array\n",
    "closest_st.head()"
   ]
  },
  {
   "cell_type": "code",
   "execution_count": 741,
   "id": "f4d31ef0",
   "metadata": {},
   "outputs": [
    {
     "data": {
      "image/png": "[encoded data removed]",
      "text/plain": [
       "<Figure size 1440x864 with 21 Axes>"
      ]
     },
     "metadata": {
      "needs_background": "light"
     },
     "output_type": "display_data"
    }
   ],
   "source": [
    "title = f'Behavior of the 20 closest stations from ours ({TARGET_ID})'\n",
    "stacked_df.loc[closest_ids].unstack(level=0).loc['2022-03-28 09:00:00':'2022-04-04 00:00:00',\n",
    "                                                 'docks_available'].plot(subplots=True,figsize=(20,12),title=title);"
   ]
  },
  {
   "cell_type": "markdown",
   "id": "044a200d",
   "metadata": {},
   "source": [
    "Except for 4 of the closest stations, they all follow the same pattern during the week. \n",
    "\n",
    "Let's inspect `station_id` __653055097__, __54000561__, __15310509__, __129011497__ as they have the exact opposite behavior."
   ]
  },
  {
   "cell_type": "code",
   "execution_count": 776,
   "id": "f8872c1c",
   "metadata": {},
   "outputs": [],
   "source": [
    "stations_df['is_cluster'] = np.where(stations_df.index.isin(closest_ids),1, 0)\n",
    "stations_df.loc[[653055097, 54000561, 15310509, 129011497],'is_cluster'] = 2"
   ]
  },
  {
   "cell_type": "code",
   "execution_count": 782,
   "id": "33d1cc98",
   "metadata": {},
   "outputs": [],
   "source": [
    "import plotly.graph_objects as go"
   ]
  },
  {
   "cell_type": "code",
   "execution_count": 784,
   "id": "8a44bd29",
   "metadata": {},
   "outputs": [
    {
     "ename": "TypeError",
     "evalue": "'module' object is not callable",
     "output_type": "error",
     "traceback": [
      "\u001b[0;31m---------------------------------------------------------------------------\u001b[0m",
      "\u001b[0;31mTypeError\u001b[0m                                 Traceback (most recent call last)",
      "\u001b[0;32m/var/folders/79/q9x6mdkd58x_tfp020w4_nnm0000gp/T/ipykernel_90558/853922165.py\u001b[0m in \u001b[0;36m<module>\u001b[0;34m\u001b[0m\n\u001b[0;32m----> 1\u001b[0;31m fig = go.Figure(data=[go.scatter(x=stations_df.lon, y=stations_df.lat)],\n\u001b[0m\u001b[1;32m      2\u001b[0m     layout=go.Layout(\n\u001b[1;32m      3\u001b[0m         \u001b[0mtitle\u001b[0m\u001b[0;34m=\u001b[0m\u001b[0mgo\u001b[0m\u001b[0;34m.\u001b[0m\u001b[0mlayout\u001b[0m\u001b[0;34m.\u001b[0m\u001b[0mTitle\u001b[0m\u001b[0;34m(\u001b[0m\u001b[0mtext\u001b[0m\u001b[0;34m=\u001b[0m\u001b[0;34m\"A Figure Specified By A Graph Object\"\u001b[0m\u001b[0;34m)\u001b[0m\u001b[0;34m\u001b[0m\u001b[0;34m\u001b[0m\u001b[0m\n\u001b[1;32m      4\u001b[0m     )\n\u001b[1;32m      5\u001b[0m )\n",
      "\u001b[0;31mTypeError\u001b[0m: 'module' object is not callable"
     ]
    }
   ],
   "source": [
    "fig = go.Figure(\n",
    "    data=[go.scatter(x=stations_df.lon, y=stations_df.lat)],\n",
    "    layout=go.Layout(\n",
    "        title=go.layout.Title(text=\"A Figure Specified By A Graph Object\")\n",
    "    )\n",
    ")\n",
    "\n",
    "fig.show()"
   ]
  },
  {
   "cell_type": "code",
   "execution_count": 791,
   "id": "d0df3771",
   "metadata": {
    "collapsed": true
   },
   "outputs": [
    {
     "ename": "ValueError",
     "evalue": "\n    Invalid value of type 'builtins.str' received for the 'plot_bgcolor' property of layout\n        Received value: 'transparent'\n\n    The 'plot_bgcolor' property is a color and may be specified as:\n      - A hex string (e.g. '#ff0000')\n      - An rgb/rgba string (e.g. 'rgb(255,0,0)')\n      - An hsl/hsla string (e.g. 'hsl(0,100%,50%)')\n      - An hsv/hsva string (e.g. 'hsv(0,100%,100%)')\n      - A named CSS color:\n            aliceblue, antiquewhite, aqua, aquamarine, azure,\n            beige, bisque, black, blanchedalmond, blue,\n            blueviolet, brown, burlywood, cadetblue,\n            chartreuse, chocolate, coral, cornflowerblue,\n            cornsilk, crimson, cyan, darkblue, darkcyan,\n            darkgoldenrod, darkgray, darkgrey, darkgreen,\n            darkkhaki, darkmagenta, darkolivegreen, darkorange,\n            darkorchid, darkred, darksalmon, darkseagreen,\n            darkslateblue, darkslategray, darkslategrey,\n            darkturquoise, darkviolet, deeppink, deepskyblue,\n            dimgray, dimgrey, dodgerblue, firebrick,\n            floralwhite, forestgreen, fuchsia, gainsboro,\n            ghostwhite, gold, goldenrod, gray, grey, green,\n            greenyellow, honeydew, hotpink, indianred, indigo,\n            ivory, khaki, lavender, lavenderblush, lawngreen,\n            lemonchiffon, lightblue, lightcoral, lightcyan,\n            lightgoldenrodyellow, lightgray, lightgrey,\n            lightgreen, lightpink, lightsalmon, lightseagreen,\n            lightskyblue, lightslategray, lightslategrey,\n            lightsteelblue, lightyellow, lime, limegreen,\n            linen, magenta, maroon, mediumaquamarine,\n            mediumblue, mediumorchid, mediumpurple,\n            mediumseagreen, mediumslateblue, mediumspringgreen,\n            mediumturquoise, mediumvioletred, midnightblue,\n            mintcream, mistyrose, moccasin, navajowhite, navy,\n            oldlace, olive, olivedrab, orange, orangered,\n            orchid, palegoldenrod, palegreen, paleturquoise,\n            palevioletred, papayawhip, peachpuff, peru, pink,\n            plum, powderblue, purple, red, rosybrown,\n            royalblue, rebeccapurple, saddlebrown, salmon,\n            sandybrown, seagreen, seashell, sienna, silver,\n            skyblue, slateblue, slategray, slategrey, snow,\n            springgreen, steelblue, tan, teal, thistle, tomato,\n            turquoise, violet, wheat, white, whitesmoke,\n            yellow, yellowgreen",
     "output_type": "error",
     "traceback": [
      "\u001b[0;31m---------------------------------------------------------------------------\u001b[0m",
      "\u001b[0;31mValueError\u001b[0m                                Traceback (most recent call last)",
      "\u001b[0;32m/var/folders/79/q9x6mdkd58x_tfp020w4_nnm0000gp/T/ipykernel_90558/2175487550.py\u001b[0m in \u001b[0;36m<module>\u001b[0;34m\u001b[0m\n\u001b[1;32m      1\u001b[0m fig = plotly.scatter(stations_df,x='lon',y='lat',color='is_cluster',\n\u001b[1;32m      2\u001b[0m                range_x=(2.3,2.4),range_y=(48.8,48.9),hover_name='name')\n\u001b[0;32m----> 3\u001b[0;31m \u001b[0mfig\u001b[0m\u001b[0;34m.\u001b[0m\u001b[0mupdate_layout\u001b[0m\u001b[0;34m(\u001b[0m\u001b[0mplot_bgcolor\u001b[0m\u001b[0;34m=\u001b[0m\u001b[0;34m'transparent'\u001b[0m\u001b[0;34m)\u001b[0m\u001b[0;34m\u001b[0m\u001b[0;34m\u001b[0m\u001b[0m\n\u001b[0m\u001b[1;32m      4\u001b[0m \u001b[0mfig\u001b[0m\u001b[0;34m.\u001b[0m\u001b[0mshow\u001b[0m\u001b[0;34m(\u001b[0m\u001b[0;34m)\u001b[0m\u001b[0;34m\u001b[0m\u001b[0;34m\u001b[0m\u001b[0m\n",
      "\u001b[0;32m~/.pyenv/versions/3.8.12/envs/sebenv/lib/python3.8/site-packages/plotly/basedatatypes.py\u001b[0m in \u001b[0;36mupdate_layout\u001b[0;34m(self, dict1, overwrite, **kwargs)\u001b[0m\n\u001b[1;32m   1401\u001b[0m             \u001b[0mThe\u001b[0m \u001b[0mFigure\u001b[0m \u001b[0mobject\u001b[0m \u001b[0mthat\u001b[0m \u001b[0mthe\u001b[0m \u001b[0mupdate_layout\u001b[0m \u001b[0mmethod\u001b[0m \u001b[0mwas\u001b[0m \u001b[0mcalled\u001b[0m \u001b[0mon\u001b[0m\u001b[0;34m\u001b[0m\u001b[0;34m\u001b[0m\u001b[0m\n\u001b[1;32m   1402\u001b[0m         \"\"\"\n\u001b[0;32m-> 1403\u001b[0;31m         \u001b[0mself\u001b[0m\u001b[0;34m.\u001b[0m\u001b[0mlayout\u001b[0m\u001b[0;34m.\u001b[0m\u001b[0mupdate\u001b[0m\u001b[0;34m(\u001b[0m\u001b[0mdict1\u001b[0m\u001b[0;34m,\u001b[0m \u001b[0moverwrite\u001b[0m\u001b[0;34m=\u001b[0m\u001b[0moverwrite\u001b[0m\u001b[0;34m,\u001b[0m \u001b[0;34m**\u001b[0m\u001b[0mkwargs\u001b[0m\u001b[0;34m)\u001b[0m\u001b[0;34m\u001b[0m\u001b[0;34m\u001b[0m\u001b[0m\n\u001b[0m\u001b[1;32m   1404\u001b[0m         \u001b[0;32mreturn\u001b[0m \u001b[0mself\u001b[0m\u001b[0;34m\u001b[0m\u001b[0;34m\u001b[0m\u001b[0m\n\u001b[1;32m   1405\u001b[0m \u001b[0;34m\u001b[0m\u001b[0m\n",
      "\u001b[0;32m~/.pyenv/versions/3.8.12/envs/sebenv/lib/python3.8/site-packages/plotly/basedatatypes.py\u001b[0m in \u001b[0;36mupdate\u001b[0;34m(self, dict1, overwrite, **kwargs)\u001b[0m\n\u001b[1;32m   5080\u001b[0m             \u001b[0;32mwith\u001b[0m \u001b[0mself\u001b[0m\u001b[0;34m.\u001b[0m\u001b[0mfigure\u001b[0m\u001b[0;34m.\u001b[0m\u001b[0mbatch_update\u001b[0m\u001b[0;34m(\u001b[0m\u001b[0;34m)\u001b[0m\u001b[0;34m:\u001b[0m\u001b[0;34m\u001b[0m\u001b[0;34m\u001b[0m\u001b[0m\n\u001b[1;32m   5081\u001b[0m                 \u001b[0mBaseFigure\u001b[0m\u001b[0;34m.\u001b[0m\u001b[0m_perform_update\u001b[0m\u001b[0;34m(\u001b[0m\u001b[0mself\u001b[0m\u001b[0;34m,\u001b[0m \u001b[0mdict1\u001b[0m\u001b[0;34m,\u001b[0m \u001b[0moverwrite\u001b[0m\u001b[0;34m=\u001b[0m\u001b[0moverwrite\u001b[0m\u001b[0;34m)\u001b[0m\u001b[0;34m\u001b[0m\u001b[0;34m\u001b[0m\u001b[0m\n\u001b[0;32m-> 5082\u001b[0;31m                 \u001b[0mBaseFigure\u001b[0m\u001b[0;34m.\u001b[0m\u001b[0m_perform_update\u001b[0m\u001b[0;34m(\u001b[0m\u001b[0mself\u001b[0m\u001b[0;34m,\u001b[0m \u001b[0mkwargs\u001b[0m\u001b[0;34m,\u001b[0m \u001b[0moverwrite\u001b[0m\u001b[0;34m=\u001b[0m\u001b[0moverwrite\u001b[0m\u001b[0;34m)\u001b[0m\u001b[0;34m\u001b[0m\u001b[0;34m\u001b[0m\u001b[0m\n\u001b[0m\u001b[1;32m   5083\u001b[0m         \u001b[0;32melse\u001b[0m\u001b[0;34m:\u001b[0m\u001b[0;34m\u001b[0m\u001b[0;34m\u001b[0m\u001b[0m\n\u001b[1;32m   5084\u001b[0m             \u001b[0mBaseFigure\u001b[0m\u001b[0;34m.\u001b[0m\u001b[0m_perform_update\u001b[0m\u001b[0;34m(\u001b[0m\u001b[0mself\u001b[0m\u001b[0;34m,\u001b[0m \u001b[0mdict1\u001b[0m\u001b[0;34m,\u001b[0m \u001b[0moverwrite\u001b[0m\u001b[0;34m=\u001b[0m\u001b[0moverwrite\u001b[0m\u001b[0;34m)\u001b[0m\u001b[0;34m\u001b[0m\u001b[0;34m\u001b[0m\u001b[0m\n",
      "\u001b[0;32m~/.pyenv/versions/3.8.12/envs/sebenv/lib/python3.8/site-packages/plotly/basedatatypes.py\u001b[0m in \u001b[0;36m_perform_update\u001b[0;34m(plotly_obj, update_obj, overwrite)\u001b[0m\n\u001b[1;32m   3919\u001b[0m                 \u001b[0;32melse\u001b[0m\u001b[0;34m:\u001b[0m\u001b[0;34m\u001b[0m\u001b[0;34m\u001b[0m\u001b[0m\n\u001b[1;32m   3920\u001b[0m                     \u001b[0;31m# Assign non-compound value\u001b[0m\u001b[0;34m\u001b[0m\u001b[0;34m\u001b[0m\u001b[0;34m\u001b[0m\u001b[0m\n\u001b[0;32m-> 3921\u001b[0;31m                     \u001b[0mplotly_obj\u001b[0m\u001b[0;34m[\u001b[0m\u001b[0mkey\u001b[0m\u001b[0;34m]\u001b[0m \u001b[0;34m=\u001b[0m \u001b[0mval\u001b[0m\u001b[0;34m\u001b[0m\u001b[0;34m\u001b[0m\u001b[0m\n\u001b[0m\u001b[1;32m   3922\u001b[0m \u001b[0;34m\u001b[0m\u001b[0m\n\u001b[1;32m   3923\u001b[0m         \u001b[0;32melif\u001b[0m \u001b[0misinstance\u001b[0m\u001b[0;34m(\u001b[0m\u001b[0mplotly_obj\u001b[0m\u001b[0;34m,\u001b[0m \u001b[0mtuple\u001b[0m\u001b[0;34m)\u001b[0m\u001b[0;34m:\u001b[0m\u001b[0;34m\u001b[0m\u001b[0;34m\u001b[0m\u001b[0m\n",
      "\u001b[0;32m~/.pyenv/versions/3.8.12/envs/sebenv/lib/python3.8/site-packages/plotly/basedatatypes.py\u001b[0m in \u001b[0;36m__setitem__\u001b[0;34m(self, prop, value)\u001b[0m\n\u001b[1;32m   5819\u001b[0m         \u001b[0;32mif\u001b[0m \u001b[0mmatch\u001b[0m \u001b[0;32mis\u001b[0m \u001b[0;32mNone\u001b[0m\u001b[0;34m:\u001b[0m\u001b[0;34m\u001b[0m\u001b[0;34m\u001b[0m\u001b[0m\n\u001b[1;32m   5820\u001b[0m             \u001b[0;31m# Set as ordinary property\u001b[0m\u001b[0;34m\u001b[0m\u001b[0;34m\u001b[0m\u001b[0;34m\u001b[0m\u001b[0m\n\u001b[0;32m-> 5821\u001b[0;31m             \u001b[0msuper\u001b[0m\u001b[0;34m(\u001b[0m\u001b[0mBaseLayoutHierarchyType\u001b[0m\u001b[0;34m,\u001b[0m \u001b[0mself\u001b[0m\u001b[0;34m)\u001b[0m\u001b[0;34m.\u001b[0m\u001b[0m__setitem__\u001b[0m\u001b[0;34m(\u001b[0m\u001b[0mprop\u001b[0m\u001b[0;34m,\u001b[0m \u001b[0mvalue\u001b[0m\u001b[0;34m)\u001b[0m\u001b[0;34m\u001b[0m\u001b[0;34m\u001b[0m\u001b[0m\n\u001b[0m\u001b[1;32m   5822\u001b[0m         \u001b[0;32melse\u001b[0m\u001b[0;34m:\u001b[0m\u001b[0;34m\u001b[0m\u001b[0;34m\u001b[0m\u001b[0m\n\u001b[1;32m   5823\u001b[0m             \u001b[0;31m# Set as subplotid property\u001b[0m\u001b[0;34m\u001b[0m\u001b[0;34m\u001b[0m\u001b[0;34m\u001b[0m\u001b[0m\n",
      "\u001b[0;32m~/.pyenv/versions/3.8.12/envs/sebenv/lib/python3.8/site-packages/plotly/basedatatypes.py\u001b[0m in \u001b[0;36m__setitem__\u001b[0;34m(self, prop, value)\u001b[0m\n\u001b[1;32m   4817\u001b[0m                 \u001b[0;31m# ### Handle simple property ###\u001b[0m\u001b[0;34m\u001b[0m\u001b[0;34m\u001b[0m\u001b[0;34m\u001b[0m\u001b[0m\n\u001b[1;32m   4818\u001b[0m                 \u001b[0;32melse\u001b[0m\u001b[0;34m:\u001b[0m\u001b[0;34m\u001b[0m\u001b[0;34m\u001b[0m\u001b[0m\n\u001b[0;32m-> 4819\u001b[0;31m                     \u001b[0mself\u001b[0m\u001b[0;34m.\u001b[0m\u001b[0m_set_prop\u001b[0m\u001b[0;34m(\u001b[0m\u001b[0mprop\u001b[0m\u001b[0;34m,\u001b[0m \u001b[0mvalue\u001b[0m\u001b[0;34m)\u001b[0m\u001b[0;34m\u001b[0m\u001b[0;34m\u001b[0m\u001b[0m\n\u001b[0m\u001b[1;32m   4820\u001b[0m             \u001b[0;32melse\u001b[0m\u001b[0;34m:\u001b[0m\u001b[0;34m\u001b[0m\u001b[0;34m\u001b[0m\u001b[0m\n\u001b[1;32m   4821\u001b[0m                 \u001b[0;31m# Make sure properties dict is initialized\u001b[0m\u001b[0;34m\u001b[0m\u001b[0;34m\u001b[0m\u001b[0;34m\u001b[0m\u001b[0m\n",
      "\u001b[0;32m~/.pyenv/versions/3.8.12/envs/sebenv/lib/python3.8/site-packages/plotly/basedatatypes.py\u001b[0m in \u001b[0;36m_set_prop\u001b[0;34m(self, prop, val)\u001b[0m\n\u001b[1;32m   5161\u001b[0m                 \u001b[0;32mreturn\u001b[0m\u001b[0;34m\u001b[0m\u001b[0;34m\u001b[0m\u001b[0m\n\u001b[1;32m   5162\u001b[0m             \u001b[0;32melse\u001b[0m\u001b[0;34m:\u001b[0m\u001b[0;34m\u001b[0m\u001b[0;34m\u001b[0m\u001b[0m\n\u001b[0;32m-> 5163\u001b[0;31m                 \u001b[0;32mraise\u001b[0m \u001b[0merr\u001b[0m\u001b[0;34m\u001b[0m\u001b[0;34m\u001b[0m\u001b[0m\n\u001b[0m\u001b[1;32m   5164\u001b[0m \u001b[0;34m\u001b[0m\u001b[0m\n\u001b[1;32m   5165\u001b[0m         \u001b[0;31m# val is None\u001b[0m\u001b[0;34m\u001b[0m\u001b[0;34m\u001b[0m\u001b[0;34m\u001b[0m\u001b[0m\n",
      "\u001b[0;32m~/.pyenv/versions/3.8.12/envs/sebenv/lib/python3.8/site-packages/plotly/basedatatypes.py\u001b[0m in \u001b[0;36m_set_prop\u001b[0;34m(self, prop, val)\u001b[0m\n\u001b[1;32m   5156\u001b[0m \u001b[0;34m\u001b[0m\u001b[0m\n\u001b[1;32m   5157\u001b[0m         \u001b[0;32mtry\u001b[0m\u001b[0;34m:\u001b[0m\u001b[0;34m\u001b[0m\u001b[0;34m\u001b[0m\u001b[0m\n\u001b[0;32m-> 5158\u001b[0;31m             \u001b[0mval\u001b[0m \u001b[0;34m=\u001b[0m \u001b[0mvalidator\u001b[0m\u001b[0;34m.\u001b[0m\u001b[0mvalidate_coerce\u001b[0m\u001b[0;34m(\u001b[0m\u001b[0mval\u001b[0m\u001b[0;34m)\u001b[0m\u001b[0;34m\u001b[0m\u001b[0;34m\u001b[0m\u001b[0m\n\u001b[0m\u001b[1;32m   5159\u001b[0m         \u001b[0;32mexcept\u001b[0m \u001b[0mValueError\u001b[0m \u001b[0;32mas\u001b[0m \u001b[0merr\u001b[0m\u001b[0;34m:\u001b[0m\u001b[0;34m\u001b[0m\u001b[0;34m\u001b[0m\u001b[0m\n\u001b[1;32m   5160\u001b[0m             \u001b[0;32mif\u001b[0m \u001b[0mself\u001b[0m\u001b[0;34m.\u001b[0m\u001b[0m_skip_invalid\u001b[0m\u001b[0;34m:\u001b[0m\u001b[0;34m\u001b[0m\u001b[0;34m\u001b[0m\u001b[0m\n",
      "\u001b[0;32m~/.pyenv/versions/3.8.12/envs/sebenv/lib/python3.8/site-packages/_plotly_utils/basevalidators.py\u001b[0m in \u001b[0;36mvalidate_coerce\u001b[0;34m(self, v, should_raise)\u001b[0m\n\u001b[1;32m   1380\u001b[0m             \u001b[0mvalidated_v\u001b[0m \u001b[0;34m=\u001b[0m \u001b[0mself\u001b[0m\u001b[0;34m.\u001b[0m\u001b[0mvc_scalar\u001b[0m\u001b[0;34m(\u001b[0m\u001b[0mv\u001b[0m\u001b[0;34m)\u001b[0m\u001b[0;34m\u001b[0m\u001b[0;34m\u001b[0m\u001b[0m\n\u001b[1;32m   1381\u001b[0m             \u001b[0;32mif\u001b[0m \u001b[0mvalidated_v\u001b[0m \u001b[0;32mis\u001b[0m \u001b[0;32mNone\u001b[0m \u001b[0;32mand\u001b[0m \u001b[0mshould_raise\u001b[0m\u001b[0;34m:\u001b[0m\u001b[0;34m\u001b[0m\u001b[0;34m\u001b[0m\u001b[0m\n\u001b[0;32m-> 1382\u001b[0;31m                 \u001b[0mself\u001b[0m\u001b[0;34m.\u001b[0m\u001b[0mraise_invalid_val\u001b[0m\u001b[0;34m(\u001b[0m\u001b[0mv\u001b[0m\u001b[0;34m)\u001b[0m\u001b[0;34m\u001b[0m\u001b[0;34m\u001b[0m\u001b[0m\n\u001b[0m\u001b[1;32m   1383\u001b[0m \u001b[0;34m\u001b[0m\u001b[0m\n\u001b[1;32m   1384\u001b[0m             \u001b[0mv\u001b[0m \u001b[0;34m=\u001b[0m \u001b[0mvalidated_v\u001b[0m\u001b[0;34m\u001b[0m\u001b[0;34m\u001b[0m\u001b[0m\n",
      "\u001b[0;32m~/.pyenv/versions/3.8.12/envs/sebenv/lib/python3.8/site-packages/_plotly_utils/basevalidators.py\u001b[0m in \u001b[0;36mraise_invalid_val\u001b[0;34m(self, v, inds)\u001b[0m\n\u001b[1;32m    287\u001b[0m                 \u001b[0mname\u001b[0m \u001b[0;34m+=\u001b[0m \u001b[0;34m\"[\"\u001b[0m \u001b[0;34m+\u001b[0m \u001b[0mstr\u001b[0m\u001b[0;34m(\u001b[0m\u001b[0mi\u001b[0m\u001b[0;34m)\u001b[0m \u001b[0;34m+\u001b[0m \u001b[0;34m\"]\"\u001b[0m\u001b[0;34m\u001b[0m\u001b[0;34m\u001b[0m\u001b[0m\n\u001b[1;32m    288\u001b[0m \u001b[0;34m\u001b[0m\u001b[0m\n\u001b[0;32m--> 289\u001b[0;31m         raise ValueError(\n\u001b[0m\u001b[1;32m    290\u001b[0m             \"\"\"\n\u001b[1;32m    291\u001b[0m     \u001b[0mInvalid\u001b[0m \u001b[0mvalue\u001b[0m \u001b[0mof\u001b[0m \u001b[0mtype\u001b[0m \u001b[0;34m{\u001b[0m\u001b[0mtyp\u001b[0m\u001b[0;34m}\u001b[0m \u001b[0mreceived\u001b[0m \u001b[0;32mfor\u001b[0m \u001b[0mthe\u001b[0m \u001b[0;34m'{name}'\u001b[0m \u001b[0mproperty\u001b[0m \u001b[0mof\u001b[0m \u001b[0;34m{\u001b[0m\u001b[0mpname\u001b[0m\u001b[0;34m}\u001b[0m\u001b[0;34m\u001b[0m\u001b[0;34m\u001b[0m\u001b[0m\n",
      "\u001b[0;31mValueError\u001b[0m: \n    Invalid value of type 'builtins.str' received for the 'plot_bgcolor' property of layout\n        Received value: 'transparent'\n\n    The 'plot_bgcolor' property is a color and may be specified as:\n      - A hex string (e.g. '#ff0000')\n      - An rgb/rgba string (e.g. 'rgb(255,0,0)')\n      - An hsl/hsla string (e.g. 'hsl(0,100%,50%)')\n      - An hsv/hsva string (e.g. 'hsv(0,100%,100%)')\n      - A named CSS color:\n            aliceblue, antiquewhite, aqua, aquamarine, azure,\n            beige, bisque, black, blanchedalmond, blue,\n            blueviolet, brown, burlywood, cadetblue,\n            chartreuse, chocolate, coral, cornflowerblue,\n            cornsilk, crimson, cyan, darkblue, darkcyan,\n            darkgoldenrod, darkgray, darkgrey, darkgreen,\n            darkkhaki, darkmagenta, darkolivegreen, darkorange,\n            darkorchid, darkred, darksalmon, darkseagreen,\n            darkslateblue, darkslategray, darkslategrey,\n            darkturquoise, darkviolet, deeppink, deepskyblue,\n            dimgray, dimgrey, dodgerblue, firebrick,\n            floralwhite, forestgreen, fuchsia, gainsboro,\n            ghostwhite, gold, goldenrod, gray, grey, green,\n            greenyellow, honeydew, hotpink, indianred, indigo,\n            ivory, khaki, lavender, lavenderblush, lawngreen,\n            lemonchiffon, lightblue, lightcoral, lightcyan,\n            lightgoldenrodyellow, lightgray, lightgrey,\n            lightgreen, lightpink, lightsalmon, lightseagreen,\n            lightskyblue, lightslategray, lightslategrey,\n            lightsteelblue, lightyellow, lime, limegreen,\n            linen, magenta, maroon, mediumaquamarine,\n            mediumblue, mediumorchid, mediumpurple,\n            mediumseagreen, mediumslateblue, mediumspringgreen,\n            mediumturquoise, mediumvioletred, midnightblue,\n            mintcream, mistyrose, moccasin, navajowhite, navy,\n            oldlace, olive, olivedrab, orange, orangered,\n            orchid, palegoldenrod, palegreen, paleturquoise,\n            palevioletred, papayawhip, peachpuff, peru, pink,\n            plum, powderblue, purple, red, rosybrown,\n            royalblue, rebeccapurple, saddlebrown, salmon,\n            sandybrown, seagreen, seashell, sienna, silver,\n            skyblue, slateblue, slategray, slategrey, snow,\n            springgreen, steelblue, tan, teal, thistle, tomato,\n            turquoise, violet, wheat, white, whitesmoke,\n            yellow, yellowgreen"
     ]
    }
   ],
   "source": [
    "fig = plotly.scatter(stations_df,x='lon',y='lat',color='is_cluster',\n",
    "               range_x=(2.3,2.4),range_y=(48.8,48.9),hover_name='name')\n",
    "fig.update_layout(plot_bgcolor='transparent')\n",
    "fig.show()"
   ]
  },
  {
   "cell_type": "markdown",
   "id": "3b6fdce8",
   "metadata": {},
   "source": [
    "# Model "
   ]
  },
  {
   "cell_type": "code",
   "execution_count": 104,
   "id": "6753d12f",
   "metadata": {},
   "outputs": [],
   "source": [
    "TARGET_ID = 30550\n",
    "MY_STATION = station_df.loc[TARGET_ID]"
   ]
  },
  {
   "cell_type": "markdown",
   "id": "add3fa3c",
   "metadata": {},
   "source": [
    "## Baseline model"
   ]
  },
  {
   "cell_type": "code",
   "execution_count": 463,
   "id": "9ba3fa5e",
   "metadata": {
    "collapsed": true
   },
   "outputs": [
    {
     "name": "stderr",
     "output_type": "stream",
     "text": [
      "/var/folders/79/q9x6mdkd58x_tfp020w4_nnm0000gp/T/ipykernel_90558/2788872653.py:2: SettingWithCopyWarning:\n",
      "\n",
      "\n",
      "A value is trying to be set on a copy of a slice from a DataFrame.\n",
      "Try using .loc[row_indexer,col_indexer] = value instead\n",
      "\n",
      "See the caveats in the documentation: https://pandas.pydata.org/pandas-docs/stable/user_guide/indexing.html#returning-a-view-versus-a-copy\n",
      "\n",
      "/var/folders/79/q9x6mdkd58x_tfp020w4_nnm0000gp/T/ipykernel_90558/2788872653.py:3: SettingWithCopyWarning:\n",
      "\n",
      "\n",
      "A value is trying to be set on a copy of a slice from a DataFrame.\n",
      "Try using .loc[row_indexer,col_indexer] = value instead\n",
      "\n",
      "See the caveats in the documentation: https://pandas.pydata.org/pandas-docs/stable/user_guide/indexing.html#returning-a-view-versus-a-copy\n",
      "\n",
      "/var/folders/79/q9x6mdkd58x_tfp020w4_nnm0000gp/T/ipykernel_90558/2788872653.py:4: SettingWithCopyWarning:\n",
      "\n",
      "\n",
      "A value is trying to be set on a copy of a slice from a DataFrame.\n",
      "Try using .loc[row_indexer,col_indexer] = value instead\n",
      "\n",
      "See the caveats in the documentation: https://pandas.pydata.org/pandas-docs/stable/user_guide/indexing.html#returning-a-view-versus-a-copy\n",
      "\n",
      "/var/folders/79/q9x6mdkd58x_tfp020w4_nnm0000gp/T/ipykernel_90558/2788872653.py:5: SettingWithCopyWarning:\n",
      "\n",
      "\n",
      "A value is trying to be set on a copy of a slice from a DataFrame.\n",
      "Try using .loc[row_indexer,col_indexer] = value instead\n",
      "\n",
      "See the caveats in the documentation: https://pandas.pydata.org/pandas-docs/stable/user_guide/indexing.html#returning-a-view-versus-a-copy\n",
      "\n"
     ]
    }
   ],
   "source": [
    "baseline_X = velib[velib.station_id==TARGET_ID]\n",
    "baseline_X['day_of_week'] = baseline_X.index.dayofweek\n",
    "baseline_X['month'] = baseline_X.index.month\n",
    "baseline_X['hour'] = baseline_X.index.hour\n",
    "baseline_X['min'] = baseline_X.index.minute"
   ]
  },
  {
   "cell_type": "code",
   "execution_count": 464,
   "id": "54594e67",
   "metadata": {},
   "outputs": [],
   "source": [
    "baseline_X = baseline_X[['docks_available','is_installed','is_returning',\n",
    "               'is_renting','temp2m','probarain','weather','wind10m','day_of_week','month','hour','min']]\n",
    "for col in ['is_installed','is_returning','is_renting']:\n",
    "    baseline_X[col] = baseline_X[col].map({True:1,False:0})"
   ]
  },
  {
   "cell_type": "code",
   "execution_count": 465,
   "id": "8036db7c",
   "metadata": {},
   "outputs": [],
   "source": [
    "baseline_X = baseline_X.reset_index().drop(columns='time')"
   ]
  },
  {
   "cell_type": "code",
   "execution_count": 466,
   "id": "8c83bbc3",
   "metadata": {},
   "outputs": [],
   "source": [
    "baseline_y = baseline_X['docks_available']\n",
    "baseline_X = baseline_X.drop(columns='docks_available')"
   ]
  },
  {
   "cell_type": "code",
   "execution_count": 471,
   "id": "df317eca",
   "metadata": {},
   "outputs": [],
   "source": [
    "from sklearn.ensemble import RandomForestRegressor\n",
    "from sklearn.model_selection import train_test_split\n",
    "\n",
    "X_train, X_test, y_train, y_test = train_test_split(baseline_X,baseline_y,train_size=0.8,random_state=0)\n",
    "\n",
    "def try_model(X_train, X_test, y_train, y_test):\n",
    "    model = RandomForestRegressor(n_estimators=120,random_state=0)\n",
    "    model.fit(X_train,y_train)\n",
    "    score = model.score(X_test,y_test)\n",
    "    pred_df = pd.DataFrame({'predictions':model.predict(X_test),'true':y_test})\n",
    "    return score, pred_df, model"
   ]
  },
  {
   "cell_type": "code",
   "execution_count": 472,
   "id": "b83cd670",
   "metadata": {},
   "outputs": [],
   "source": [
    "baseline_score, pred_df, baseline_model = try_model(X_train, X_test, y_train, y_test)"
   ]
  },
  {
   "cell_type": "code",
   "execution_count": 470,
   "id": "baf0acbc",
   "metadata": {},
   "outputs": [],
   "source": [
    "from utils_seb.preprocessing import permutation_importance, display_permutation_importance"
   ]
  },
  {
   "cell_type": "code",
   "execution_count": 477,
   "id": "dc0c7f19",
   "metadata": {},
   "outputs": [
    {
     "data": {
      "text/html": [
       "<div>\n",
       "<style scoped>\n",
       "    .dataframe tbody tr th:only-of-type {\n",
       "        vertical-align: middle;\n",
       "    }\n",
       "\n",
       "    .dataframe tbody tr th {\n",
       "        vertical-align: top;\n",
       "    }\n",
       "\n",
       "    .dataframe thead th {\n",
       "        text-align: right;\n",
       "    }\n",
       "</style>\n",
       "<table border=\"1\" class=\"dataframe\">\n",
       "  <thead>\n",
       "    <tr style=\"text-align: right;\">\n",
       "      <th></th>\n",
       "      <th>feature</th>\n",
       "      <th>score decrease</th>\n",
       "    </tr>\n",
       "  </thead>\n",
       "  <tbody>\n",
       "    <tr>\n",
       "      <th>9</th>\n",
       "      <td>hour</td>\n",
       "      <td>1.344821</td>\n",
       "    </tr>\n",
       "    <tr>\n",
       "      <th>7</th>\n",
       "      <td>day_of_week</td>\n",
       "      <td>0.993195</td>\n",
       "    </tr>\n",
       "    <tr>\n",
       "      <th>3</th>\n",
       "      <td>temp2m</td>\n",
       "      <td>0.17093</td>\n",
       "    </tr>\n",
       "    <tr>\n",
       "      <th>6</th>\n",
       "      <td>wind10m</td>\n",
       "      <td>0.109067</td>\n",
       "    </tr>\n",
       "    <tr>\n",
       "      <th>5</th>\n",
       "      <td>weather</td>\n",
       "      <td>0.090962</td>\n",
       "    </tr>\n",
       "    <tr>\n",
       "      <th>4</th>\n",
       "      <td>probarain</td>\n",
       "      <td>0.025543</td>\n",
       "    </tr>\n",
       "    <tr>\n",
       "      <th>10</th>\n",
       "      <td>min</td>\n",
       "      <td>0.021811</td>\n",
       "    </tr>\n",
       "    <tr>\n",
       "      <th>8</th>\n",
       "      <td>month</td>\n",
       "      <td>0.013283</td>\n",
       "    </tr>\n",
       "    <tr>\n",
       "      <th>0</th>\n",
       "      <td>is_installed</td>\n",
       "      <td>0.0</td>\n",
       "    </tr>\n",
       "    <tr>\n",
       "      <th>1</th>\n",
       "      <td>is_returning</td>\n",
       "      <td>0.0</td>\n",
       "    </tr>\n",
       "    <tr>\n",
       "      <th>2</th>\n",
       "      <td>is_renting</td>\n",
       "      <td>0.0</td>\n",
       "    </tr>\n",
       "  </tbody>\n",
       "</table>\n",
       "</div>"
      ],
      "text/plain": [
       "         feature score decrease\n",
       "9           hour       1.344821\n",
       "7    day_of_week       0.993195\n",
       "3         temp2m        0.17093\n",
       "6        wind10m       0.109067\n",
       "5        weather       0.090962\n",
       "4      probarain       0.025543\n",
       "10           min       0.021811\n",
       "8          month       0.013283\n",
       "0   is_installed            0.0\n",
       "1   is_returning            0.0\n",
       "2     is_renting            0.0"
      ]
     },
     "execution_count": 477,
     "metadata": {},
     "output_type": "execute_result"
    }
   ],
   "source": [
    "display_permutation_importance(baseline_model, X_test,y_test)"
   ]
  },
  {
   "cell_type": "markdown",
   "id": "1c02dcb9",
   "metadata": {},
   "source": [
    "## Trying with stations clustering "
   ]
  },
  {
   "cell_type": "markdown",
   "id": "901832b8",
   "metadata": {},
   "source": [
    "### Clustering"
   ]
  },
  {
   "cell_type": "markdown",
   "id": "86bf6d74",
   "metadata": {},
   "source": [
    "### Regression for our cluster"
   ]
  },
  {
   "cell_type": "markdown",
   "id": "c891eb22",
   "metadata": {},
   "source": [
    "### Regression inside the cluster"
   ]
  },
  {
   "cell_type": "code",
   "execution_count": null,
   "id": "78659821",
   "metadata": {},
   "outputs": [],
   "source": []
  }
 ],
 "metadata": {
  "kernelspec": {
   "display_name": "Python 3 (ipykernel)",
   "language": "python",
   "name": "python3"
  },
  "language_info": {
   "codemirror_mode": {
    "name": "ipython",
    "version": 3
   },
   "file_extension": ".py",
   "mimetype": "text/x-python",
   "name": "python",
   "nbconvert_exporter": "python",
   "pygments_lexer": "ipython3",
   "version": "3.8.12"
  },
  "toc": {
   "base_numbering": 1,
   "nav_menu": {},
   "number_sections": true,
   "sideBar": true,
   "skip_h1_title": false,
   "title_cell": "Table of Contents",
   "title_sidebar": "Contents",
   "toc_cell": false,
   "toc_position": {},
   "toc_section_display": true,
   "toc_window_display": false
  }
 },
 "nbformat": 4,
 "nbformat_minor": 5
}
